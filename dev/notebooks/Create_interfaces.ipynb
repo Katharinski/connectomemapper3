{
 "cells": [
  {
   "cell_type": "markdown",
   "metadata": {},
   "source": [
    "# This notebook is used to create the main interfaces for CMP3-EEG part"
   ]
  },
  {
   "cell_type": "markdown",
   "metadata": {},
   "source": [
    "## This is the backbone used to create the interfaces"
   ]
  },
  {
   "cell_type": "code",
   "execution_count": 1,
   "metadata": {},
   "outputs": [],
   "source": [
    "from nipype.interfaces.base import BaseInterfaceInputSpec, BaseInterface, File, TraitedSpec, traits\n",
    "\n",
    "# Define function\n",
    "def my_function(input1,input2,out_file):\n",
    "    import numpy as np\n",
    "    \n",
    "    print('Did nothing but print this')\n",
    "    \n",
    "\n",
    "class MyFunctionInputSpec(BaseInterfaceInputSpec):\n",
    "    in_file = File(exists=True, mandatory=True, desc='the input image')\n",
    "    out_file = File(mandatory=True, desc='the output image') # Do not set exists=True !!\n",
    "    a_random_list_parameter = traits.List([50.0, 0.0, 0.0], traits.Float, usedefault=True,\n",
    "                              desc='the translation component of the input transform')\n",
    "\n",
    "class MyFunctionOutputSpec(TraitedSpec):\n",
    "    out_file = File(desc='the output image')\n",
    "\n",
    "class MyFunction(BaseInterface):\n",
    "    input_spec = MyFunctionInputSpec\n",
    "    output_spec = MyFunctionOutputSpec\n",
    "\n",
    "    def _run_interface(self, runtime):\n",
    "\n",
    "        # Call our python code here:\n",
    "        my_function(\n",
    "            self.inputs.in_file,\n",
    "            self.inputs.a_random_list_parameter,\n",
    "            self.inputs.out_file\n",
    "        )\n",
    "\n",
    "        # And we are done\n",
    "        return runtime\n",
    "    \n",
    "    def _list_outputs(self):\n",
    "        return {'out_file': self.inputs.out_file}"
   ]
  },
  {
   "cell_type": "code",
   "execution_count": 2,
   "metadata": {},
   "outputs": [
    {
     "name": "stdout",
     "output_type": "stream",
     "text": [
      "Did nothing but print this\n"
     ]
    }
   ],
   "source": [
    "this_works = MyFunction(\n",
    "    in_file='README.md',\n",
    "    out_file='OUT_file.npy')\n",
    "result = this_works.run()\n"
   ]
  },
  {
   "cell_type": "markdown",
   "metadata": {},
   "source": [
    "## The main nodes are:\n",
    "#### 1) EEG-Preprocessing\n",
    "#### 2) Lead Field matrix\n",
    "#### 3) Inverse solution\n",
    "#### 4) Parcellation\n",
    "#### 5) dFC\n",
    "#### 6) post-processing"
   ]
  },
  {
   "cell_type": "markdown",
   "metadata": {},
   "source": [
    "## 1) Create node for eeg-preprocessing"
   ]
  },
  {
   "cell_type": "code",
   "execution_count": null,
   "metadata": {},
   "outputs": [],
   "source": []
  },
  {
   "cell_type": "markdown",
   "metadata": {},
   "source": [
    "## 2) Create node for LeadField matrix\n",
    "\n",
    "\n"
   ]
  },
  {
   "cell_type": "markdown",
   "metadata": {},
   "source": [
    "#### 2.1. Create bem surfaces and visualize them\n"
   ]
  },
  {
   "cell_type": "code",
   "execution_count": 2,
   "metadata": {},
   "outputs": [],
   "source": [
    "from nipype.interfaces.mne import WatershedBEM\n",
    "from nipype import Node\n",
    "import os\n",
    "\n"
   ]
  },
  {
   "cell_type": "markdown",
   "metadata": {},
   "source": [
    "#### 2.2. Coregistration --> Create trans.fif fil\n"
   ]
  },
  {
   "cell_type": "code",
   "execution_count": 4,
   "metadata": {},
   "outputs": [
    {
     "name": "stdout",
     "output_type": "stream",
     "text": [
      "Wraps the executable command ``mne coreg``.\n",
      "\n",
      "Inputs::\n",
      "\n",
      "        [Mandatory]\n",
      "        subject_dir: (a pathlike object or string representing an existing\n",
      "                  directory)\n",
      "                the input description\n",
      "                argument: ``%s``, position: 0\n",
      "\n",
      "        [Optional]\n",
      "        args: (a unicode string)\n",
      "                Additional parameters to the command\n",
      "                argument: ``%s``\n",
      "        environ: (a dictionary with keys which are a bytes or None or a value\n",
      "                  of class 'str' and with values which are a bytes or None or a\n",
      "                  value of class 'str', nipype default value: {})\n",
      "                Environment variables\n",
      "\n",
      "Outputs::\n",
      "\n",
      "        None\n",
      "\n"
     ]
    }
   ],
   "source": [
    "from nipype.interfaces.base import CommandLine, CommandLineInputSpec, Directory\n",
    "\n",
    "class CoregTransInputSpec(CommandLineInputSpec):\n",
    "    subject_dir = Directory(exists=True, mandatory=True, argstr='%s',\n",
    "                   position=0, desc='the input description')\n",
    "\n",
    "class CoregTrans(CommandLine):\n",
    "    _cmd = 'mne coreg'\n",
    "    input_spec = CoregTransInputSpec\n",
    "    def _run_interface(self, runtime):\n",
    "        runtime = super(CoregTrans, self)._run_interface(runtime)\n",
    "        return runtime\n",
    "\n",
    "CoregTrans.help()\n",
    "\n"
   ]
  },
  {
   "cell_type": "markdown",
   "metadata": {},
   "source": [
    "#### 2.3. Visualization of the corregistration\n"
   ]
  },
  {
   "cell_type": "code",
   "execution_count": 5,
   "metadata": {},
   "outputs": [
    {
     "name": "stdout",
     "output_type": "stream",
     "text": [
      "Inputs::\n",
      "\n",
      "        [Mandatory]\n",
      "        subject_id: (a unicode string)\n",
      "                the subject id\n",
      "\n",
      "        [Optional]\n",
      "        software_id: (a unicode string)\n",
      "                the software used to save electrode coordinates name\n",
      "\n",
      "Outputs::\n",
      "\n",
      "        info: (an Info or None)\n",
      "\n"
     ]
    }
   ],
   "source": [
    "from nipype.interfaces.base import BaseInterfaceInputSpec, BaseInterface, File, TraitedSpec, traits, Str\n",
    "import mne\n",
    "\n",
    "def vis_coreg(sub_id,soft_id):\n",
    "    \n",
    "    if soft_id.lower() == \"cartool\":\n",
    "        datafold = \"/home/jo8558/data/SINERGIA_2019/\"##### TO DO #####\n",
    "        montage_fname = os.path.join(datafold,'02_ESI_CARTOOL','CartoolFiles',sub_id,sub_id+'.xyz')\n",
    "        dev_head_t_fname = os.path.join(datafold,'02_ESI_CARTOOL','CartoolFiles',sub_id,'More',sub_id+'.Transform.Electrodes Coregistration.Electrodes to Original MRI.txt')\n",
    "        dev_head_t = np.loadtxt(dev_head_t_fname)\n",
    "\n",
    "        n = int(open(montage_fname).readline().lstrip().split(' ')[0])\n",
    "        all_coord = np.loadtxt(montage_fname, skiprows=1, usecols=(0, 1, 2), max_rows=n)\n",
    "        all_names = np.loadtxt(montage_fname, skiprows=1, usecols=3, max_rows=n,dtype=np.dtype(str)).tolist()\n",
    "        all_coord = list(map(lambda x: x/1000,all_coord))\n",
    "        \n",
    "        nas_coord = all_coord[all_names.index('nasion')]\n",
    "        lpa_coord = all_coord[all_names.index('lpa')]\n",
    "        rpa_coord = all_coord[all_names.index('rpa')]\n",
    "        ch_coord  = [all_coord[idx] for idx, chan in  enumerate(all_names) if chan not in ['lpa','rpa','nasion']]\n",
    "        ch_names  = [all_names[idx] for idx, chan in  enumerate(all_names) if chan not in ['lpa','rpa','nasion']]\n",
    "\n",
    "        montage = mne.channels.make_dig_montage(ch_pos=dict(zip(ch_names, ch_coord)),nasion=nas_coord,rpa=rpa_coord,lpa=lpa_coord,coord_frame='head')\n",
    "\n",
    "        montage.dev_head_t = dev_head_t\n",
    "        fif_fname = os.path.join(datafold,'MNE_tmp',sub_id,sub_id+'-montage.fif')\n",
    "        montage.save(fif_fname)        \n",
    "        info = mne.create_info(ch_names, 250., 'eeg', montage=montage)\n",
    "    else:\n",
    "        raise NotImplementedError()\n",
    "class VisCoregInputSpec(BaseInterfaceInputSpec):\n",
    "    subject_id = Str(mandatory=True, desc='the subject id')\n",
    "    software_id = Str(default_value=\"cartool\", desc='the software used to save electrode coordinates name')\n",
    "\n",
    "class VisCoregOutputSpec(TraitedSpec):\n",
    "    info = traits.Instance(mne.Info)\n",
    "    \n",
    "class VisCoreg(BaseInterface):\n",
    "    input_spec = VisCoregInputSpec\n",
    "    output_spec = VisCoregOutputSpec\n",
    "    def _run_interface(self, runtime):\n",
    "\n",
    "        vis_coreg(\n",
    "            self.inputs.subject_id,\n",
    "            self.inputs.software_id\n",
    "        )\n",
    "        return runtime\n",
    "\n",
    "    \n",
    "VisCoreg.help()"
   ]
  },
  {
   "cell_type": "markdown",
   "metadata": {},
   "source": [
    "#### 2.4. Compute source space\n"
   ]
  },
  {
   "cell_type": "code",
   "execution_count": 6,
   "metadata": {},
   "outputs": [
    {
     "name": "stdout",
     "output_type": "stream",
     "text": [
      "Inputs::\n",
      "\n",
      "        [Mandatory]\n",
      "        subject_id: (a unicode string)\n",
      "                the subject id\n",
      "        subjects_dir: (a pathlike object or string representing an existing\n",
      "                  directory)\n",
      "                subject directory\n",
      "                argument: ``%s``, position: 0\n",
      "\n",
      "        [Optional]\n",
      "        software_id: (a unicode string)\n",
      "                the software used to save electrode coordinates name\n",
      "        info: (an Info or None)\n",
      "        mindist: (a float)\n",
      "        n_jobs: (an integer (int or long))\n",
      "\n",
      "Outputs::\n",
      "\n",
      "        None\n",
      "\n"
     ]
    }
   ],
   "source": [
    "from nipype.interfaces.base import BaseInterfaceInputSpec, BaseInterface, File, TraitedSpec, traits, Str\n",
    "import mne\n",
    "# Define function\n",
    "def source_space(sub_id,subjects_dir, soft_id,info,mindist=5.0,n_jobs=4):\n",
    "    if soft_id.lower() != \"cartool\": # then use MNE\n",
    "        datafold = \"/home/jo8558/data/SINERGIA_2019/\"##### TO DO #####\n",
    "        fwd_fname = os.path.join(datafold,'MNE_tmp','sub-'+subject,'fwd.fif')\n",
    "        trans_fname = os.path.join(datafold,'MNE_tmp','sub-'+subject,'sub-'+subject+'-trans.fif')\n",
    "            \n",
    "        if not(os.path.exists(fwd_fname)):\n",
    "            conductivity = (0.3, 0.006, 0.3)  # for three layers\n",
    "            for elem in [\"inner_skull\",\"outer_skull\",\"outer_skin\"]:\n",
    "                if (elem not in os.listdir(os.path.join(subjects_dir,sub_id,'bem'))) and (\"watershed\" in os.listdir(os.path.join(subjects_dir,sub_id,'bem'))):\n",
    "                    cmd = 'cp '+ os.path.join(subjects_dir,subject,'bem','watershed','*'+elem+'*') + ' ' + os.path.join(subjects_dir,sub_id,'bem',elem+'.surf')\n",
    "                    os.system(cmd)    \n",
    "\n",
    "            model = mne.make_bem_model(subject=sub_id, ico=4,\n",
    "                                       conductivity=conductivity,\n",
    "                                       subjects_dir=subjects_dir)\n",
    "\n",
    "            bem = mne.make_bem_solution(model)\n",
    "\n",
    "            fwd = mne.make_forward_solution(info, trans=trans_fname, src=src,\n",
    "                                            bem=bem, eeg=True, mindist=mindist, n_jobs=n_jobs)\n",
    "            mne.write_forward_solution(fwd_fname, fwd, overwrite=True, verbose=None)\n",
    "        else:\n",
    "            fwd = mne.read_forward_solution(fwd_fname)\n",
    "    \n",
    "class SourceSpaceInputSpec(BaseInterfaceInputSpec):\n",
    "    subject_id = Str(mandatory=True, desc='the subject id')\n",
    "    subjects_dir = Directory(exists=True, mandatory=True, argstr='%s',\n",
    "                   position=0, desc='subject directory')\n",
    "    software_id = Str(default_value=\"cartool\", desc='the software used to save electrode coordinates name')\n",
    "    # TODO: Decide whether or not make these mandatory: \n",
    "    info = traits.Instance(mne.Info)\n",
    "    #bem = traits.Instance(mne.bem.ConductorModel)\n",
    "    mindist = traits.Float\n",
    "    n_jobs = traits.Int\n",
    "    \n",
    "class SourceSpace(BaseInterface):\n",
    "    input_spec = SourceSpaceInputSpec\n",
    "\n",
    "    def _run_interface(self, runtime):\n",
    "\n",
    "        # Call our python code here:\n",
    "        source_space(\n",
    "            self.inputs.subject_id,\n",
    "            self.inputs.software_id,\n",
    "            self.inputs.info,\n",
    "            self.inputs.bem,\n",
    "            self.inputs.mindist,\n",
    "            self.inputs.n_jobs\n",
    "        )\n",
    "\n",
    "        # And we are done\n",
    "        return runtime\n",
    "    \n",
    "SourceSpace.help()"
   ]
  },
  {
   "cell_type": "markdown",
   "metadata": {},
   "source": [
    "#### 2.5. Compute forward solution\n"
   ]
  },
  {
   "cell_type": "code",
   "execution_count": null,
   "metadata": {},
   "outputs": [],
   "source": [
    "EEG_path = os.path.join(datafold,'01_EEG_PREP','Data_FaceTask',subject,subject+'_FACES_250HZ_prepd.set') \n",
    "\n",
    "epochs = mne.read_epochs_eeglab(EEG_path, events=None, event_id=None, eog=(), verbose=None, uint16_codec=None)\n",
    "epochs.set_montage(montage,raise_if_subset=False)\n",
    "epochs.apply_baseline((0,None))\n",
    "epochs.set_eeg_reference('average',projection = True)\n",
    "epochs.apply_proj()\n",
    "\n",
    "cov_fname = os.path.join(datafold,\"MNE_tmp\",'sub-'+subject,\"noise_cov.fif\")\n",
    "if os.path.exists(cov_fname):\n",
    "    noise_cov = mne.read_cov(cov_fname)\n",
    "else:\n",
    "    noise_cov = mne.compute_covariance(\n",
    "    epochs, tmax=0., method=['shrunk', 'empirical'], rank=None, verbose=True)\n",
    "    mne.write_cov(cov_fname,noise_cov)\n",
    "    \n",
    "inverse_operator = mne.minimum_norm.make_inverse_operator(epochs.info, fwd, noise_cov)\n",
    "\n",
    "method = \"dSPM\"\n",
    "#method = \"eLORETA\"\n",
    "snr = 3.\n",
    "lambda2 = 1. / snr ** 2\n",
    "\n",
    "print('Computing SOURCE data faces')\n",
    "stc_faces,residual_faces = mne.minimum_norm.apply_inverse(evoked_faces, inverse_operator, lambda2,\n",
    "                              method=method, pick_ori=None,return_residual=True,\n",
    "                              verbose=True)\n",
    "print('Computing SOURCE data scra')\n",
    "stc_scra,residual_scra = mne.minimum_norm.apply_inverse(evoked_scra, inverse_operator, lambda2,\n",
    "                              method=method, pick_ori=None,return_residual=True,\n",
    "                              verbose=True)\n"
   ]
  },
  {
   "cell_type": "markdown",
   "metadata": {},
   "source": [
    "#### Create all nodes"
   ]
  },
  {
   "cell_type": "code",
   "execution_count": 7,
   "metadata": {
    "scrolled": true
   },
   "outputs": [],
   "source": [
    "\n",
    "sub_id = 'sub-01'\n",
    "subjects_dir = os.path.join(\"/home/jo8558/data/SINERGIA_2019\",'03_ANATOMY','freesurfer','subjects')\n",
    "\n",
    "# Create bem surfaces\n",
    "bem_surfaces = Node(WatershedBEM(subject_id = sub_id,\n",
    "                                 subjects_dir = subjects_dir),\n",
    "               name=\"bem_surfaces\")\n",
    "\n",
    "# Coregistration - Create transormation file\n",
    "coregistration = Node(CoregTrans(subject_dir = os.path.join(subjects_dir,sub_id)),\n",
    "               name=\"coregistration\")\n",
    "\n",
    "# Visualization the coregistration \n",
    "vis_coreg = Node(VisCoreg(subject_id = sub_id, \n",
    "                         software_id = \"Cartool\"),\n",
    "               name=\"vis_coreg\")\n",
    "\n",
    "# Compute Source Space\n",
    "sourcespace = Node(SourceSpace(subject_id= sub_id,\n",
    "                               subjects_dir = subjects_dir,\n",
    "                               software_id= \"mne\",\n",
    "                               info = vis_coreg.outputs.info\n",
    "                              ),\n",
    "                  name=\"sourcespace\")\n"
   ]
  },
  {
   "cell_type": "code",
   "execution_count": null,
   "metadata": {},
   "outputs": [],
   "source": []
  },
  {
   "cell_type": "code",
   "execution_count": null,
   "metadata": {},
   "outputs": [],
   "source": []
  },
  {
   "cell_type": "markdown",
   "metadata": {},
   "source": [
    "## 3) Create node for Inverse solution"
   ]
  },
  {
   "cell_type": "code",
   "execution_count": null,
   "metadata": {},
   "outputs": [],
   "source": []
  },
  {
   "cell_type": "markdown",
   "metadata": {},
   "source": [
    "## 4) Create node for Parcellation"
   ]
  },
  {
   "cell_type": "code",
   "execution_count": null,
   "metadata": {},
   "outputs": [],
   "source": []
  },
  {
   "cell_type": "markdown",
   "metadata": {},
   "source": [
    "## 5) Create node for Post-processing"
   ]
  },
  {
   "cell_type": "code",
   "execution_count": null,
   "metadata": {},
   "outputs": [],
   "source": []
  },
  {
   "cell_type": "code",
   "execution_count": null,
   "metadata": {},
   "outputs": [],
   "source": []
  },
  {
   "cell_type": "code",
   "execution_count": null,
   "metadata": {},
   "outputs": [],
   "source": []
  }
 ],
 "metadata": {
  "kernelspec": {
   "display_name": "Python 3",
   "language": "python",
   "name": "python3"
  },
  "language_info": {
   "codemirror_mode": {
    "name": "ipython",
    "version": 3
   },
   "file_extension": ".py",
   "mimetype": "text/x-python",
   "name": "python",
   "nbconvert_exporter": "python",
   "pygments_lexer": "ipython3",
   "version": "3.7.9"
  }
 },
 "nbformat": 4,
 "nbformat_minor": 2
}

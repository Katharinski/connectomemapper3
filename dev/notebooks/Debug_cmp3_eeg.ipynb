{
 "cells": [
  {
   "cell_type": "code",
   "execution_count": 4,
   "metadata": {},
   "outputs": [
    {
     "data": {
      "text/html": [
       "<style>.container { width:100% !important; }</style>"
      ],
      "text/plain": [
       "<IPython.core.display.HTML object>"
      ]
     },
     "metadata": {},
     "output_type": "display_data"
    }
   ],
   "source": [
    "from IPython.core.display import display, HTML\n",
    "display(HTML(\"<style>.container { width:100% !important; }</style>\"))"
   ]
  },
  {
   "cell_type": "code",
   "execution_count": null,
   "metadata": {},
   "outputs": [],
   "source": [
    "python run.py \"/Volumes/SSD-Bercows/Joan/research/0_data/DS001_BIDS_cmp-eeg\" \"/Volumes/SSD-Bercows/Joan/research/0_data/DS001_BIDS_cmp-eeg/derivatives\" \"participant\" --participant_label \"01\" --fs_license \"/Users/ari/Applications/freesurfer/license.txt\" --anat_pipeline_config \"/Volumes/SSD-Bercows/Joan/research/0_data/DS001_BIDS_cmp-eeg/code/ref_eeg_config.json\" --eeg_pipeline_config \"/Volumes/SSD-Bercows/Joan/research/0_data/DS001_BIDS_cmp-eeg/code/ref_eeg_config.json\""
   ]
  },
  {
   "cell_type": "code",
   "execution_count": 5,
   "metadata": {},
   "outputs": [],
   "source": [
    "import nipype.interfaces.io as nio\n",
    "import os"
   ]
  },
  {
   "cell_type": "code",
   "execution_count": 19,
   "metadata": {},
   "outputs": [
    {
     "name": "stdout",
     "output_type": "stream",
     "text": [
      "{'EEG': {'suffix': 'epo', 'extensions': ['fif']}}\n",
      "/Volumes/SSD-Bercows/Joan/research/0_data/DS001_BIDS_cmp-eeg\n",
      "01\n"
     ]
    }
   ],
   "source": [
    "derivative_list = ['cmp']\n",
    "subject = 'sub-01'\n",
    "base_directory = '/Volumes/SSD-Bercows/Joan/research/0_data/DS001_BIDS_cmp-eeg/'\n",
    "output_query = {\n",
    "    'EEG': {\n",
    "        'scope': 'cmp',\n",
    "        'suffix': 'epo',\n",
    "        'extensions': ['fif']\n",
    "    }\n",
    "}\n",
    "bidsdatagrabber = nio.BIDSDataGrabber(index_derivatives=False, extra_derivatives=[os.path.join(base_directory,'derivatives',elem) for elem in derivative_list])\n",
    "bidsdatagrabber.inputs.base_dir = base_directory\n",
    "bidsdatagrabber.inputs.subject = subject.split('-')[1]\n",
    "bidsdatagrabber.inputs.output_query = output_query\n",
    "print(bidsdatagrabber.inputs.output_query)\n",
    "print(bidsdatagrabber.inputs.base_dir)\n",
    "print(bidsdatagrabber.inputs.subject)\n",
    "results = bidsdatagrabber.run()\n",
    "results.outputs"
   ]
  },
  {
   "cell_type": "code",
   "execution_count": 21,
   "metadata": {},
   "outputs": [
    {
     "data": {
      "text/plain": [
       "\n",
       "EEG = ['/Volumes/SSD-Bercows/Joan/research/0_data/DS001_BIDS_cmp-eeg/derivatives/cmp/sub-01/eeg/sub-01_epo.fif']"
      ]
     },
     "execution_count": 21,
     "metadata": {},
     "output_type": "execute_result"
    }
   ],
   "source": []
  },
  {
   "cell_type": "code",
   "execution_count": null,
   "metadata": {},
   "outputs": [],
   "source": []
  }
 ],
 "metadata": {
  "kernelspec": {
   "display_name": "Python 3",
   "language": "python",
   "name": "python3"
  },
  "language_info": {
   "codemirror_mode": {
    "name": "ipython",
    "version": 3
   },
   "file_extension": ".py",
   "mimetype": "text/x-python",
   "name": "python",
   "nbconvert_exporter": "python",
   "pygments_lexer": "ipython3",
   "version": "3.7.9"
  }
 },
 "nbformat": 4,
 "nbformat_minor": 4
}

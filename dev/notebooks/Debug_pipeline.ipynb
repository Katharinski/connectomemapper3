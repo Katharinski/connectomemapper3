{
 "cells": [
  {
   "cell_type": "code",
   "execution_count": 1,
   "metadata": {},
   "outputs": [
    {
     "data": {
      "text/html": [
       "<style>.container { width:60% !important; }</style>"
      ],
      "text/plain": [
       "<IPython.core.display.HTML object>"
      ]
     },
     "metadata": {},
     "output_type": "display_data"
    }
   ],
   "source": [
    "from IPython.core.display import display, HTML\n",
    "display(HTML(\"<style>.container { width:60% !important; }</style>\"))\n",
    "#from nipype import config\n",
    "#config.enable_debug_mode()\n",
    "import os\n",
    "pipeline_dir = '/Volumes/SSD-Bercows/Joan/research/0_data/DS001_BIDS_cmp-eeg/derivatives/nipype/01/'\n",
    "import shutil\n",
    "\n",
    "\n",
    "if os.path.exists(pipeline_dir):\n",
    "    shutil.rmtree(pipeline_dir)\n",
    "    "
   ]
  },
  {
   "cell_type": "code",
   "execution_count": 2,
   "metadata": {
    "scrolled": true
   },
   "outputs": [
    {
     "name": "stdout",
     "output_type": "stream",
     "text": [
      "210325-09:03:53,606 nipype.utils WARNING:\n",
      "\t A newer version (1.5.1) of nipy/nipype is available. You are using 1.5.0\n",
      "Done importing!\n",
      "210325-09:03:55,845 nipype.interface INFO:\n",
      "\t **** Processing ****\n",
      "210325-09:03:56,228 nipype.workflow INFO:\n",
      "\t Generated workflow graph: /Volumes/SSD-Bercows/Joan/research/0_data/DS001_BIDS_cmp-eeg/derivatives/nipype/01/eeg_pipeline/graph.svg (graph2use=colored, simple_form=True).\n",
      "210325-09:03:56,284 nipype.workflow INFO:\n",
      "\t Workflow eeg_pipeline settings: ['check', 'execution', 'logging', 'monitoring']\n",
      "210325-09:03:56,301 nipype.workflow INFO:\n",
      "\t Running serially.\n",
      "210325-09:03:56,302 nipype.workflow INFO:\n",
      "\t [Node] Setting-up \"eeg_pipeline.eeg_preparing_stage.eeglab2fif\" in \"/Volumes/SSD-Bercows/Joan/research/0_data/DS001_BIDS_cmp-eeg/derivatives/nipype/01/eeg_pipeline/eeg_preparing_stage/eeglab2fif\".\n",
      "210325-09:03:56,318 nipype.workflow INFO:\n",
      "\t [Node] Running \"eeglab2fif\" (\"dev.cmtklib_dev.interfaces.eeglab2fif.EEGLAB2fif\")\n",
      "Extracting parameters from /Volumes/SSD-Bercows/Joan/research/0_data/DS001_BIDS_cmp-eeg/derivatives/eeglab/sub-01/eeg/sub-01_task-FACES_desc-preproc_eeg.set...\n",
      "588 matching events found\n",
      "No baseline correction applied\n",
      "Not setting metadata\n",
      "0 projection items activated\n",
      "Ready.\n",
      "Overwriting existing file.\n",
      "210325-09:04:21,94 nipype.workflow INFO:\n",
      "\t [Node] Finished \"eeg_pipeline.eeg_preparing_stage.eeglab2fif\".\n",
      "210325-09:04:21,95 nipype.workflow INFO:\n",
      "\t [Node] Setting-up \"eeg_pipeline.eeg_preparing_stage.createrois\" in \"/Volumes/SSD-Bercows/Joan/research/0_data/DS001_BIDS_cmp-eeg/derivatives/nipype/01/eeg_pipeline/eeg_preparing_stage/createrois\".\n",
      "210325-09:04:21,109 nipype.workflow INFO:\n",
      "\t [Node] Running \"createrois\" (\"dev.cmtklib_dev.interfaces.createrois.CreateRois\")\n",
      "210325-09:05:46,880 nipype.workflow INFO:\n",
      "\t [Node] Finished \"eeg_pipeline.eeg_preparing_stage.createrois\".\n",
      "210325-09:05:46,881 nipype.workflow INFO:\n",
      "\t [Node] Setting-up \"eeg_pipeline.eeg_loader_stage.eegloader\" in \"/Volumes/SSD-Bercows/Joan/research/0_data/DS001_BIDS_cmp-eeg/derivatives/nipype/01/eeg_pipeline/eeg_loader_stage/eegloader\".\n",
      "210325-09:05:46,894 nipype.workflow INFO:\n",
      "\t [Node] Running \"eegloader\" (\"dev.cmtklib_dev.interfaces.eegloader.EEGLoader\")\n",
      "{'EEG': {'scope': 'Connectome Mapper', 'suffix': 'epo', 'extensions': ['fif']}, 'rois': {'scope': 'Cartool', 'extensions': ['pickle.rois']}, 'src': {'scope': 'Cartool', 'extensions': ['spi']}, 'invsol': {'scope': 'Cartool', 'extensions': ['LAURA.is']}}\n",
      "/Volumes/SSD-Bercows/Joan/research/0_data/DS001_BIDS_cmp-eeg\n",
      "01\n",
      "210325-09:05:47,523 nipype.workflow INFO:\n",
      "\t [Node] Finished \"eeg_pipeline.eeg_loader_stage.eegloader\".\n",
      "210325-09:05:47,524 nipype.workflow INFO:\n",
      "\t [Node] Setting-up \"eeg_pipeline.eeg_inverse_solution_stage.invsol\" in \"/Volumes/SSD-Bercows/Joan/research/0_data/DS001_BIDS_cmp-eeg/derivatives/nipype/01/eeg_pipeline/eeg_inverse_solution_stage/invsol\".\n",
      "210325-09:05:47,534 nipype.workflow INFO:\n",
      "\t [Node] Running \"invsol\" (\"dev.cmtklib_dev.interfaces.invsol.CartoolInverseSolutionROIExtraction\")\n",
      "Reading /Volumes/SSD-Bercows/Joan/research/0_data/DS001_BIDS_cmp-eeg/derivatives/cmp/sub-01/eeg/sub-01_epo.fif ...\n",
      "    Found the data of interest:\n",
      "        t =   -1500.00 ...     996.00 ms\n",
      "        0 CTF compensation matrices available\n",
      "588 matching events found\n",
      "No baseline correction applied\n",
      "Not setting metadata\n",
      "0 projection items activated\n",
      "Reading /Volumes/SSD-Bercows/Joan/research/0_data/DS001_BIDS_cmp-eeg/derivatives/Cartool/sub-01/sub-01.LAURA.is\n",
      "Reading Header...\n",
      "IS type: IS03\n",
      "n_channels: 128\n",
      "n_solutionpoints: 5001\n",
      "n_regularizations: 13\n",
      "Inverse solution is Vectorial\n",
      "Reading Variable Header...\n",
      "Regularizations values: [0.0, 35.36394375, 70.7278875, 106.09183125, 141.455775, 176.81971875, 212.1836625, 247.54760625, 282.91155, 318.27549375, 353.6394375, 389.00338125, 424.367325]\n",
      "Regularizations names: ['Regularization 0', 'Regularization 1', 'Regularization 2', 'Regularization 3', 'Regularization 4', 'Regularization 5', 'Regularization 6', 'Regularization 7', 'Regularization 8', 'Regularization 9', 'Regularization 10', 'Regularization 11', 'Regularization 12']\n",
      "210325-09:08:28,67 nipype.workflow INFO:\n",
      "\t [Node] Finished \"eeg_pipeline.eeg_inverse_solution_stage.invsol\".\n",
      "210325-09:08:28,69 nipype.workflow INFO:\n",
      "\t [Node] Setting-up \"eeg_pipeline.eeg_sinker\" in \"/Volumes/SSD-Bercows/Joan/research/0_data/DS001_BIDS_cmp-eeg/derivatives/nipype/01/eeg_pipeline/eeg_sinker\".\n",
      "210325-09:08:28,83 nipype.workflow INFO:\n",
      "\t [Node] Running \"eeg_sinker\" (\"nipype.interfaces.io.DataSink\")\n",
      "210325-09:08:29,983 nipype.workflow INFO:\n",
      "\t [Node] Finished \"eeg_pipeline.eeg_sinker\".\n",
      "210325-09:08:29,985 nipype.interface INFO:\n",
      "\t **** Processing finished ****\n"
     ]
    },
    {
     "data": {
      "text/plain": [
       "True"
      ]
     },
     "execution_count": 2,
     "metadata": {},
     "output_type": "execute_result"
    }
   ],
   "source": [
    "# Import Node and Workflow object and FSL interface\n",
    "import numpy as np\n",
    "from nipype import Node, Workflow, IdentityInterface\n",
    "from os.path import abspath\n",
    "import pycartool as cart\n",
    "import mne\n",
    "import pandas as pd\n",
    "\n",
    "import nipype.pipeline.engine as pe\n",
    "import nipype.interfaces.utility as util\n",
    "import nipype.interfaces.io as nio\n",
    "from traits.api import *\n",
    "import sys\n",
    "sys.path.append('/Volumes/SSD-Bercows/Joan/research/2_projects/connectomemapper3/')\n",
    "sys.path.append('/Volumes/SSD-Bercows/Joan/research/2_projects/connectomemapper3/dev/')\n",
    "\n",
    "from cmp.pipelines.common import *\n",
    "import cmp.pipelines.common as cmp_common\n",
    "from cmp.project import CMP_Project_Info\n",
    "import datetime\n",
    "from cmp_dev.stages.eeg.eeg_loader import EEGLoaderStage\n",
    "from cmp_dev.stages.eeg.eeg_preparer import EEGPreparerStage\n",
    "from cmp_dev.stages.eeg.eeg_inverse_solution import EEGInverseSolutionStage\n",
    "from cmp_dev.pipelines.functional import eeg\n",
    "from cmtklib_dev.interfaces import invsol, eeglab2fif, createrois, eegloader\n",
    "\n",
    "print('Done importing!')\n",
    "\n",
    "bids_dir = '/Volumes/SSD-Bercows/Joan/research/0_data/DS001_BIDS_cmp-eeg/'\n",
    "output_dir = '/Volumes/SSD-Bercows/Joan/research/0_data/DS001_BIDS_cmp-eeg/derivatives/'\n",
    "participant_label = '01'\n",
    "\n",
    "project = CMP_Project_Info()\n",
    "project.base_directory = os.path.abspath(bids_dir)\n",
    "project.output_directory = os.path.abspath(output_dir)\n",
    "project.subjects = ['{}'.format(participant_label)]\n",
    "project.subject = '{}'.format(participant_label)\n",
    "project.subject_id = '{}'.format(participant_label)\n",
    "project.subject_sessions = ['']\n",
    "project.subject_session = ''\n",
    "\n",
    "pipeline = eeg.EEGPipeline(project_info=project)\n",
    "pipeline.process()"
   ]
  },
  {
   "cell_type": "code",
   "execution_count": null,
   "metadata": {},
   "outputs": [],
   "source": []
  },
  {
   "cell_type": "code",
   "execution_count": null,
   "metadata": {},
   "outputs": [],
   "source": []
  },
  {
   "cell_type": "code",
   "execution_count": null,
   "metadata": {},
   "outputs": [],
   "source": []
  },
  {
   "cell_type": "code",
   "execution_count": 3,
   "metadata": {
    "scrolled": true
   },
   "outputs": [],
   "source": [
    "output_query = {\n",
    "    \n",
    "    'EEG': {'scope': 'Connectome Mapper', \n",
    "            'suffix': 'epo', \n",
    "            'extensions': ['fif']\n",
    "           }, \n",
    "    'rois': {'scope': 'Cartool', \n",
    "             'extensions': ['pickle.rois']\n",
    "            }, \n",
    "    'src': {'scope': 'Cartool', \n",
    "            'extensions': ['spi']\n",
    "           }, \n",
    "    'invsol': {'scope': 'Cartool', \n",
    "               'extensions': ['LAURA.is']\n",
    "              }\n",
    "}\n",
    "\n",
    "base_dir = '/Volumes/SSD-Bercows/Joan/research/0_data/DS001_BIDS_cmp-eeg/'\n",
    "subject = '01'\n",
    "\n",
    "import nipype.interfaces.io as nio\n",
    "bidsdatagrabber = nio.BIDSDataGrabber(index_derivatives=False, extra_derivatives=[os.path.join(base_dir,'derivatives',elem) for elem in ['cartool','cmp']])\n",
    "bidsdatagrabber.inputs.base_dir = base_dir\n",
    "bidsdatagrabber.inputs.subject = subject\n",
    "bidsdatagrabber.inputs.output_query = output_query\n",
    "results = bidsdatagrabber.run()"
   ]
  },
  {
   "cell_type": "code",
   "execution_count": null,
   "metadata": {},
   "outputs": [],
   "source": []
  }
 ],
 "metadata": {
  "kernelspec": {
   "display_name": "Python 3",
   "language": "python",
   "name": "python3"
  },
  "language_info": {
   "codemirror_mode": {
    "name": "ipython",
    "version": 3
   },
   "file_extension": ".py",
   "mimetype": "text/x-python",
   "name": "python",
   "nbconvert_exporter": "python",
   "pygments_lexer": "ipython3",
   "version": "3.7.9"
  }
 },
 "nbformat": 4,
 "nbformat_minor": 4
}

{
 "cells": [
  {
   "cell_type": "code",
   "execution_count": 1,
   "metadata": {
    "scrolled": true
   },
   "outputs": [
    {
     "name": "stdout",
     "output_type": "stream",
     "text": [
      "210309-17:24:02,781 nipype.utils WARNING:\n",
      "\t A newer version (1.5.1) of nipy/nipype is available. You are using 1.5.0\n"
     ]
    }
   ],
   "source": [
    "# Import Node and Workflow object and FSL interface\n",
    "import numpy as np\n",
    "from nipype import Node, Workflow, IdentityInterface\n",
    "from os.path import abspath\n",
    "import pycartool as cart\n",
    "import mne\n",
    "import pandas as pd"
   ]
  },
  {
   "cell_type": "code",
   "execution_count": 2,
   "metadata": {
    "scrolled": true
   },
   "outputs": [],
   "source": [
    "spi_fname = '/Volumes/SSD-Bercows/Joan/research/0_data/DS001_BIDS_cmp-eeg/derivatives/cartool/sub-01/sub-01.spi'\n",
    "rois_fname = '/Volumes/SSD-Bercows/Joan/research/0_data/DS001_BIDS_cmp-eeg/derivatives/cartool/sub-01/Rois/sub-01_label-L2008_desc-scale1.pickle.rois'\n",
    "epochs_fif_fname = '/Volumes/SSD-Bercows/Joan/research/0_data/DS001_BIDS_cmp-eeg/derivatives/eeglab/sub-01/sub-01_epo.fif'\n",
    "xyz_fname = '/Volumes/SSD-Bercows/Joan/research/0_data/DS001_BIDS_cmp-eeg/derivatives/cartool/sub-01/sub-01.xyz'\n",
    "is_fname = '/Volumes/SSD-Bercows/Joan/research/0_data/DS001_BIDS_cmp-eeg/derivatives/cartool/sub-01/sub-01.LAURA.is'\n",
    "roi_ts_fname = '/Volumes/SSD-Bercows/Joan/research/0_data/DS001_BIDS_cmp-eeg/derivatives/cmp-v3.0.0-beta-RC1/sub-01/eeg/sub-01.L2008_desc-scale1_LAURA.npy'\n",
    "\n",
    "svd_params =  {'toi_begin' : 120,\n",
    "               'toi_end' : 500}\n",
    "\n",
    "epochs_fname = '/Volumes/SSD-Bercows/Joan/research/0_data/DS001_BIDS_cmp-eeg/derivatives/eeglab/sub-01/sub-01_FACES_250HZ_prepd.set'"
   ]
  },
  {
   "cell_type": "code",
   "execution_count": 3,
   "metadata": {
    "scrolled": true
   },
   "outputs": [],
   "source": [
    "i0 = Node(IdentityInterface(fields=['epochs', \n",
    "                                    'behav', \n",
    "                                    'epochs_fif', \n",
    "                                    ], \n",
    "                            mandatory_inputs=True), name = 'input_node_0'\n",
    "         )\n",
    "\n",
    "i0.inputs.epochs = epochs_fname\n",
    "i0.inputs.behav = behav_fname\n",
    "i0.inputs.epochs_fif = epochs_fif_fname\n",
    "\n",
    "\n",
    "i1 = Node(IdentityInterface(fields=['src_file', \n",
    "                                    'invsol_file', \n",
    "                                    'lamda', \n",
    "                                    'rois_file', \n",
    "                                    'svd_params',\n",
    "                                    'roi_ts_file'], \n",
    "                            mandatory_inputs=True), name = 'input_node_1'\n",
    "         )\n",
    "\n",
    "i1.inputs.src_file = spi_fname\n",
    "i1.inputs.invsol_file = is_fname\n",
    "i1.inputs.lamda = 6\n",
    "i1.inputs.rois_file = rois_fname\n",
    "i1.inputs.svd_params = svd_params\n",
    "i1.inputs.roi_ts_file = roi_ts_fname"
   ]
  },
  {
   "cell_type": "code",
   "execution_count": 4,
   "metadata": {},
   "outputs": [],
   "source": [
    "from eeg_implementation.cmptklib.interfaces import invsol\n",
    "from eeg_implementation.cmptklib.interfaces import eeglab2fif\n"
   ]
  },
  {
   "cell_type": "code",
   "execution_count": 5,
   "metadata": {},
   "outputs": [],
   "source": [
    "eeglab2fif_node = Node(eeglab2fif.EEGLAB2fif(), name=\"eeglab2fif\")\n",
    "is_node = Node(invsol.CartoolInverseSolutionROIExtraction(), name=\"invsolution\")"
   ]
  },
  {
   "cell_type": "code",
   "execution_count": 6,
   "metadata": {
    "scrolled": true
   },
   "outputs": [
    {
     "name": "stdout",
     "output_type": "stream",
     "text": [
      "210309-17:24:03,558 nipype.workflow INFO:\n",
      "\t Workflow roi_ts settings: ['check', 'execution', 'logging', 'monitoring']\n",
      "210309-17:24:03,563 nipype.workflow INFO:\n",
      "\t Running serially.\n",
      "210309-17:24:03,564 nipype.workflow INFO:\n",
      "\t [Node] Setting-up \"roi_ts.eeglab2fif\" in \"/Volumes/SSD-Bercows/Joan/research/2_projects/CMP_EEG/output/working_dir/roi_ts/eeglab2fif\".\n",
      "210309-17:24:03,567 nipype.workflow INFO:\n",
      "\t [Node] Outdated cache found for \"roi_ts.eeglab2fif\".\n",
      "210309-17:24:03,576 nipype.workflow INFO:\n",
      "\t [Node] Running \"eeglab2fif\" (\"eeg_implementation.cmptklib.interfaces.eeglab2fif.EEGLAB2fif\")\n",
      "Extracting parameters from /Volumes/SSD-Bercows/Joan/research/0_data/DS001_BIDS_cmp-eeg/derivatives/eeglab/sub-01/sub-01_FACES_250HZ_prepd.set...\n"
     ]
    },
    {
     "name": "stderr",
     "output_type": "stream",
     "text": [
      "/Volumes/SSD-Bercows/Joan/research/2_projects/CMP_EEG/eeg_implementation/cmptklib/interfaces/eeglab2fif.py:48: RuntimeWarning: At least one epoch has multiple events. Only the latency of the first event will be retained.\n",
      "  epochs = mne.read_epochs_eeglab(epochs_file, events=None, event_id=None, eog=(), verbose=None, uint16_codec=None)\n",
      "/Volumes/SSD-Bercows/Joan/research/2_projects/CMP_EEG/eeg_implementation/cmptklib/interfaces/eeglab2fif.py:48: RuntimeWarning: Data file name in EEG.data (01_DNP_FACES_250HZ_dtle_icap_iav_z.fdt) is incorrect, the file name must have changed on disk, using the correct file name (sub-01_FACES_250HZ_prepd.fdt).\n",
      "  epochs = mne.read_epochs_eeglab(epochs_file, events=None, event_id=None, eog=(), verbose=None, uint16_codec=None)\n"
     ]
    },
    {
     "name": "stdout",
     "output_type": "stream",
     "text": [
      "588 matching events found\n",
      "No baseline correction applied\n",
      "Not setting metadata\n",
      "0 projection items activated\n",
      "Ready.\n",
      "Overwriting existing file.\n",
      "210309-17:24:23,292 nipype.workflow INFO:\n",
      "\t [Node] Finished \"roi_ts.eeglab2fif\".\n",
      "210309-17:24:23,293 nipype.workflow INFO:\n",
      "\t [Node] Setting-up \"roi_ts.invsolution\" in \"/Volumes/SSD-Bercows/Joan/research/2_projects/CMP_EEG/output/working_dir/roi_ts/invsolution\".\n",
      "210309-17:24:23,304 nipype.workflow INFO:\n",
      "\t [Node] Running \"invsolution\" (\"eeg_implementation.cmptklib.interfaces.invsol.CartoolInverseSolutionROIExtraction\")\n",
      "Reading /Volumes/SSD-Bercows/Joan/research/0_data/DS001_BIDS_cmp-eeg/derivatives/eeglab/sub-01/sub-01_epo.fif ...\n",
      "    Found the data of interest:\n",
      "        t =   -1500.00 ...     996.00 ms\n",
      "        0 CTF compensation matrices available\n",
      "588 matching events found\n",
      "No baseline correction applied\n",
      "Not setting metadata\n",
      "0 projection items activated\n",
      "Reading /Volumes/SSD-Bercows/Joan/research/0_data/DS001_BIDS_cmp-eeg/derivatives/cartool/sub-01/sub-01.LAURA.is\n",
      "Reading Header...\n",
      "IS type: IS03\n",
      "n_channels: 128\n",
      "n_solutionpoints: 5001\n",
      "n_regularizations: 13\n",
      "Inverse solution is Vectorial\n",
      "Reading Variable Header...\n",
      "Regularizations values: [0.0, 35.36394375, 70.7278875, 106.09183125, 141.455775, 176.81971875, 212.1836625, 247.54760625, 282.91155, 318.27549375, 353.6394375, 389.00338125, 424.367325]\n",
      "Regularizations names: ['Regularization 0', 'Regularization 1', 'Regularization 2', 'Regularization 3', 'Regularization 4', 'Regularization 5', 'Regularization 6', 'Regularization 7', 'Regularization 8', 'Regularization 9', 'Regularization 10', 'Regularization 11', 'Regularization 12']\n",
      "210309-17:26:27,286 nipype.workflow INFO:\n",
      "\t [Node] Finished \"roi_ts.invsolution\".\n"
     ]
    },
    {
     "data": {
      "text/plain": [
       "<networkx.classes.digraph.DiGraph at 0x7fb8c8e4eb50>"
      ]
     },
     "execution_count": 6,
     "metadata": {},
     "output_type": "execute_result"
    }
   ],
   "source": [
    "wf = Workflow(name=\"roi_ts\", base_dir=\"./output/working_dir/\")\n",
    "\n",
    "wf.connect([(i0, eeglab2fif_node,[('epochs','eeg_ts_file'),\n",
    "                          ('behav','behav_file'),\n",
    "                          ('epochs_fif','epochs_fif_fname'),\n",
    "                         ]\n",
    "            )])\n",
    "\n",
    "wf.connect([(i1, is_node,[('src_file','src_file'),\n",
    "                          ('invsol_file','invsol_file'),\n",
    "                          ('lamda','lamda'),\n",
    "                          ('rois_file','rois_file'),\n",
    "                          ('svd_params','svd_params'),\n",
    "                          ('roi_ts_file','roi_ts_file'),\n",
    "                         ]\n",
    "            )])\n",
    "\n",
    "wf.connect([(eeglab2fif_node, is_node,[('b','eeg_ts_file')]\n",
    "            )])\n",
    "wf.run()"
   ]
  },
  {
   "cell_type": "code",
   "execution_count": null,
   "metadata": {},
   "outputs": [],
   "source": []
  },
  {
   "cell_type": "code",
   "execution_count": null,
   "metadata": {},
   "outputs": [],
   "source": []
  },
  {
   "cell_type": "code",
   "execution_count": null,
   "metadata": {},
   "outputs": [],
   "source": []
  },
  {
   "cell_type": "code",
   "execution_count": null,
   "metadata": {},
   "outputs": [],
   "source": []
  },
  {
   "cell_type": "code",
   "execution_count": null,
   "metadata": {},
   "outputs": [],
   "source": []
  },
  {
   "cell_type": "code",
   "execution_count": null,
   "metadata": {},
   "outputs": [],
   "source": []
  },
  {
   "cell_type": "code",
   "execution_count": 77,
   "metadata": {
    "scrolled": true
   },
   "outputs": [
    {
     "name": "stdout",
     "output_type": "stream",
     "text": [
      "210310-10:34:41,923 nipype.workflow INFO:\n",
      "\t [Node] Setting-up \"bids-grabber\" in \"/private/var/folders/t7/t6fr54mx5cl1t4t9fcmq_rzr0000gq/T/tmp1_wxsmri/bids-grabber\".\n",
      "210310-10:34:41,928 nipype.workflow INFO:\n",
      "\t [Node] Running \"bids-grabber\" (\"nipype.interfaces.io.BIDSDataGrabber\")\n",
      "210310-10:34:42,550 nipype.workflow INFO:\n",
      "\t [Node] Finished \"bids-grabber\".\n"
     ]
    }
   ],
   "source": [
    "from nipype.interfaces.io import BIDSDataGrabber\n",
    "bg = Node(BIDSDataGrabber(index_derivatives=True), name='bids-grabber',anat_only=False)\n",
    "bg.inputs.base_dir = '/Volumes/SSD-Bercows/Joan/research/0_data/DS001_BIDS_cmp-eeg/'\n",
    "bg.inputs.subject = '01'\n",
    "bg.inputs.output_query = {'EEG': {'scope': 'EEGLAB',\n",
    "                                  'suffix': 'prepd',\n",
    "                                  'extensions': ['set']},\n",
    "                          'behav': {'scope': 'EEGLAB',\n",
    "                                  'suffix': 'behav',\n",
    "                                  'extensions': ['txt']},\n",
    "                         'rois_file': {'scope': 'Cartool',\n",
    "                                  'suffix': 'scale3',\n",
    "                                  'extensions': ['rois']},\n",
    "                         'src_file': {'scope': 'Cartool',\n",
    "                                  'extensions': ['spi']},\n",
    "                         'invsol_file': {'scope': 'Cartool',\n",
    "                                  'extensions': ['LAURA.is']},\n",
    "                         'atlas': {'scope': 'Connectome Mapper',\n",
    "                                   'suffix': 'atlas',\n",
    "                                   'extension': 'nii.gz',\n",
    "                                   'parcellation_name': 'L2008_desc-scale4'}\n",
    "                         }\n",
    "result = bg.run()"
   ]
  },
  {
   "cell_type": "code",
   "execution_count": 78,
   "metadata": {},
   "outputs": [
    {
     "data": {
      "text/plain": [
       "['/Volumes/SSD-Bercows/Joan/research/0_data/DS001_BIDS_cmp-eeg/derivatives/eeglab/sub-01/sub-01-MOTION_250HZ_prepd.set',\n",
       " '/Volumes/SSD-Bercows/Joan/research/0_data/DS001_BIDS_cmp-eeg/derivatives/eeglab/sub-01/sub-01_FACES_250HZ_prepd.set']"
      ]
     },
     "execution_count": 78,
     "metadata": {},
     "output_type": "execute_result"
    }
   ],
   "source": [
    "result.outputs.EEG"
   ]
  },
  {
   "cell_type": "code",
   "execution_count": null,
   "metadata": {},
   "outputs": [],
   "source": []
  },
  {
   "cell_type": "code",
   "execution_count": null,
   "metadata": {},
   "outputs": [],
   "source": []
  },
  {
   "cell_type": "code",
   "execution_count": 3,
   "metadata": {},
   "outputs": [
    {
     "data": {
      "text/plain": [
       "96.0"
      ]
     },
     "execution_count": 3,
     "metadata": {},
     "output_type": "execute_result"
    }
   ],
   "source": []
  },
  {
   "cell_type": "code",
   "execution_count": 1,
   "metadata": {},
   "outputs": [
    {
     "name": "stdout",
     "output_type": "stream",
     "text": [
      "210310-13:10:25,892 nipype.utils WARNING:\n",
      "\t A newer version (1.5.1) of nipy/nipype is available. You are using 1.5.0\n"
     ]
    },
    {
     "ename": "ModuleNotFoundError",
     "evalue": "No module named 'cmp.stages.eeg'",
     "output_type": "error",
     "traceback": [
      "\u001b[0;31m---------------------------------------------------------------------------\u001b[0m",
      "\u001b[0;31mModuleNotFoundError\u001b[0m                       Traceback (most recent call last)",
      "\u001b[0;32m<ipython-input-1-c2ed5f4416f1>\u001b[0m in \u001b[0;36m<module>\u001b[0;34m\u001b[0m\n\u001b[1;32m      5\u001b[0m \u001b[0;32mfrom\u001b[0m \u001b[0mcmp\u001b[0m\u001b[0;34m.\u001b[0m\u001b[0mpipelines\u001b[0m\u001b[0;34m.\u001b[0m\u001b[0mcommon\u001b[0m \u001b[0;32mimport\u001b[0m \u001b[0;34m*\u001b[0m\u001b[0;34m\u001b[0m\u001b[0;34m\u001b[0m\u001b[0m\n\u001b[1;32m      6\u001b[0m \u001b[0;32mimport\u001b[0m \u001b[0mdatetime\u001b[0m\u001b[0;34m\u001b[0m\u001b[0;34m\u001b[0m\u001b[0m\n\u001b[0;32m----> 7\u001b[0;31m \u001b[0;32mfrom\u001b[0m \u001b[0mcmp\u001b[0m\u001b[0;34m.\u001b[0m\u001b[0mstages\u001b[0m\u001b[0;34m.\u001b[0m\u001b[0meeg\u001b[0m\u001b[0;34m.\u001b[0m\u001b[0meeg_preprocessing\u001b[0m \u001b[0;32mimport\u001b[0m \u001b[0mEEGPreprocessingStage\u001b[0m\u001b[0;34m\u001b[0m\u001b[0;34m\u001b[0m\u001b[0m\n\u001b[0m\u001b[1;32m      8\u001b[0m \u001b[0;32mfrom\u001b[0m \u001b[0mcmp\u001b[0m\u001b[0;34m.\u001b[0m\u001b[0mstages\u001b[0m\u001b[0;34m.\u001b[0m\u001b[0meeg\u001b[0m\u001b[0;34m.\u001b[0m\u001b[0meeg_inverse_solution\u001b[0m \u001b[0;32mimport\u001b[0m \u001b[0mEEGInverseSolutionStage\u001b[0m\u001b[0;34m\u001b[0m\u001b[0;34m\u001b[0m\u001b[0m\n",
      "\u001b[0;31mModuleNotFoundError\u001b[0m: No module named 'cmp.stages.eeg'"
     ]
    }
   ],
   "source": [
    "import nipype.pipeline.engine as pe\n",
    "import nipype.interfaces.utility as util\n",
    "import nipype.interfaces.io as nio\n",
    "from traits.api import *\n",
    "from cmp.pipelines.common import *\n",
    "import datetime\n",
    "from cmp.stages.eeg.eeg_preprocessing import EEGPreprocessingStage\n",
    "from cmp.stages.eeg.eeg_inverse_solution import EEGInverseSolutionStage"
   ]
  },
  {
   "cell_type": "code",
   "execution_count": 102,
   "metadata": {},
   "outputs": [
    {
     "ename": "NameError",
     "evalue": "name 'EEGPreprocessing' is not defined",
     "output_type": "error",
     "traceback": [
      "\u001b[0;31m---------------------------------------------------------------------------\u001b[0m",
      "\u001b[0;31mNameError\u001b[0m                                 Traceback (most recent call last)",
      "\u001b[0;32m<ipython-input-102-b081a64835d6>\u001b[0m in \u001b[0;36m<module>\u001b[0;34m\u001b[0m\n\u001b[1;32m     19\u001b[0m \u001b[0;34m\u001b[0m\u001b[0m\n\u001b[1;32m     20\u001b[0m \u001b[0;34m\u001b[0m\u001b[0m\n\u001b[0;32m---> 21\u001b[0;31m \u001b[0mself\u001b[0m \u001b[0;34m=\u001b[0m \u001b[0mEEGPipeline\u001b[0m\u001b[0;34m(\u001b[0m\u001b[0;34m'/Volumes/SSD-Bercows/Joan/research/0_data/DS001_BIDS_cmp-eeg/'\u001b[0m\u001b[0;34m,\u001b[0m\u001b[0;34m'sub-01'\u001b[0m\u001b[0;34m)\u001b[0m\u001b[0;34m\u001b[0m\u001b[0;34m\u001b[0m\u001b[0m\n\u001b[0m\u001b[1;32m     22\u001b[0m \u001b[0mcmp_deriv_subject_directory\u001b[0m \u001b[0;34m=\u001b[0m \u001b[0;34m'/Volumes/SSD-Bercows/Joan/research/0_data/DS001_BIDS_cmp-eeg/derivatives/cmp-v3.0.0-beta-RC1/'\u001b[0m\u001b[0;34m\u001b[0m\u001b[0;34m\u001b[0m\u001b[0m\n",
      "\u001b[0;32m<ipython-input-102-b081a64835d6>\u001b[0m in \u001b[0;36m__init__\u001b[0;34m(self, base_dir, subject_id)\u001b[0m\n\u001b[1;32m     11\u001b[0m         \u001b[0mself\u001b[0m\u001b[0;34m.\u001b[0m\u001b[0msubject_id\u001b[0m \u001b[0;34m=\u001b[0m \u001b[0msubject_id\u001b[0m\u001b[0;34m\u001b[0m\u001b[0;34m\u001b[0m\u001b[0m\n\u001b[1;32m     12\u001b[0m \u001b[0;34m\u001b[0m\u001b[0m\n\u001b[0;32m---> 13\u001b[0;31m         self.stages = {'EEGPreprocessing': EEGPreprocessing(bids_dir=project_info.base_directory,\n\u001b[0m\u001b[1;32m     14\u001b[0m                                                            output_dir=self.output_directory),\n\u001b[1;32m     15\u001b[0m                        'EEGInverseSolution': EEGInverseSolution(bids_dir=project_info.base_directory,\n",
      "\u001b[0;31mNameError\u001b[0m: name 'EEGPreprocessing' is not defined"
     ]
    }
   ],
   "source": [
    "class Global_Configuration(HasTraits):\n",
    "\n",
    "    def __init__(self,base_dir):\n",
    "        self.base_directory = base_dir\n",
    "    \n",
    "\n",
    "class EEGPipeline(Pipeline):\n",
    "    \n",
    "    def __init__(self,base_dir,subject_id):\n",
    "        self.global_conf = Global_Configuration(base_dir)\n",
    "        self.subject_id = subject_id\n",
    "\n",
    "        self.stages = {'EEGPreprocessing': EEGPreprocessingStage(bids_dir=project_info.base_directory,\n",
    "                                                           output_dir=self.output_directory),\n",
    "                       'EEGInverseSolution': EEGInverseSolutionStage(bids_dir=project_info.base_directory,\n",
    "                                                           output_dir=self.output_directory),\n",
    "                       }\n",
    "        cmp_common.Pipeline.__init__(self, project_info)\n",
    "\n",
    "        \n",
    "self = EEGPipeline('/Volumes/SSD-Bercows/Joan/research/0_data/DS001_BIDS_cmp-eeg/','sub-01')\n",
    "cmp_deriv_subject_directory = '/Volumes/SSD-Bercows/Joan/research/0_data/DS001_BIDS_cmp-eeg/derivatives/cmp-v3.0.0-beta-RC1/'"
   ]
  },
  {
   "cell_type": "code",
   "execution_count": 101,
   "metadata": {},
   "outputs": [
    {
     "ename": "AttributeError",
     "evalue": "'EEGPipeline' object has no attribute 'stages'",
     "output_type": "error",
     "traceback": [
      "\u001b[0;31m---------------------------------------------------------------------------\u001b[0m",
      "\u001b[0;31mAttributeError\u001b[0m                            Traceback (most recent call last)",
      "\u001b[0;32m<ipython-input-101-d2c7cb2924b8>\u001b[0m in \u001b[0;36m<module>\u001b[0;34m\u001b[0m\n\u001b[1;32m     30\u001b[0m \u001b[0;34m\u001b[0m\u001b[0m\n\u001b[1;32m     31\u001b[0m  \u001b[0;31m# Clear previous outputs\u001b[0m\u001b[0;34m\u001b[0m\u001b[0;34m\u001b[0m\u001b[0;34m\u001b[0m\u001b[0m\n\u001b[0;32m---> 32\u001b[0;31m \u001b[0mself\u001b[0m\u001b[0;34m.\u001b[0m\u001b[0mclear_stages_outputs\u001b[0m\u001b[0;34m(\u001b[0m\u001b[0;34m)\u001b[0m\u001b[0;34m\u001b[0m\u001b[0;34m\u001b[0m\u001b[0m\n\u001b[0m\u001b[1;32m     33\u001b[0m \u001b[0;34m\u001b[0m\u001b[0m\n\u001b[1;32m     34\u001b[0m \u001b[0;31m# Create common_flow\u001b[0m\u001b[0;34m\u001b[0m\u001b[0;34m\u001b[0m\u001b[0;34m\u001b[0m\u001b[0m\n",
      "\u001b[0;32m~/miniconda3/envs/py37cmp-gui/lib/python3.7/site-packages/cmp/pipelines/common.py\u001b[0m in \u001b[0;36mclear_stages_outputs\u001b[0;34m(self)\u001b[0m\n\u001b[1;32m    248\u001b[0m     \u001b[0;32mdef\u001b[0m \u001b[0mclear_stages_outputs\u001b[0m\u001b[0;34m(\u001b[0m\u001b[0mself\u001b[0m\u001b[0;34m)\u001b[0m\u001b[0;34m:\u001b[0m\u001b[0;34m\u001b[0m\u001b[0;34m\u001b[0m\u001b[0m\n\u001b[1;32m    249\u001b[0m         \u001b[0;34m\"\"\"Clear processing stage outputs.\"\"\"\u001b[0m\u001b[0;34m\u001b[0m\u001b[0;34m\u001b[0m\u001b[0m\n\u001b[0;32m--> 250\u001b[0;31m         \u001b[0;32mfor\u001b[0m \u001b[0mstage\u001b[0m \u001b[0;32min\u001b[0m \u001b[0mlist\u001b[0m\u001b[0;34m(\u001b[0m\u001b[0mself\u001b[0m\u001b[0;34m.\u001b[0m\u001b[0mstages\u001b[0m\u001b[0;34m.\u001b[0m\u001b[0mvalues\u001b[0m\u001b[0;34m(\u001b[0m\u001b[0;34m)\u001b[0m\u001b[0;34m)\u001b[0m\u001b[0;34m:\u001b[0m\u001b[0;34m\u001b[0m\u001b[0;34m\u001b[0m\u001b[0m\n\u001b[0m\u001b[1;32m    251\u001b[0m             \u001b[0;32mif\u001b[0m \u001b[0mstage\u001b[0m\u001b[0;34m.\u001b[0m\u001b[0menabled\u001b[0m\u001b[0;34m:\u001b[0m\u001b[0;34m\u001b[0m\u001b[0;34m\u001b[0m\u001b[0m\n\u001b[1;32m    252\u001b[0m                 \u001b[0mstage\u001b[0m\u001b[0;34m.\u001b[0m\u001b[0minspect_outputs_dict\u001b[0m \u001b[0;34m=\u001b[0m \u001b[0;34m{\u001b[0m\u001b[0;34m}\u001b[0m\u001b[0;34m\u001b[0m\u001b[0;34m\u001b[0m\u001b[0m\n",
      "\u001b[0;31mAttributeError\u001b[0m: 'EEGPipeline' object has no attribute 'stages'"
     ]
    }
   ],
   "source": [
    "datasource = pe.Node(interface=nio.BIDSDataGrabber(index_derivatives=True), name='bids-grabber',anat_only=False)\n",
    "datasource.inputs.base_dir = self.global_conf.base_directory\n",
    "datasource.inputs.subject = self.subject_id\n",
    "datasource.inputs.output_query = {\n",
    "                                    'EEG': {\n",
    "                                            'scope': 'EEGLAB',\n",
    "                                            'suffix': 'prepd',\n",
    "                                            'extensions': ['set']\n",
    "                                            },\n",
    "                                    'behav': {'scope': 'EEGLAB',\n",
    "                                            'suffix': 'behav',\n",
    "                                            'extensions': ['txt']},\n",
    "                                    'rois_file': {\n",
    "                                            'scope': 'Cartool',\n",
    "                                            'suffix': 'scale3',\n",
    "                                            'extensions': ['rois']\n",
    "                                            },\n",
    "                                    'src_file': {\n",
    "                                            'scope': 'Cartool',\n",
    "                                            'extensions': ['spi']\n",
    "                                            },\n",
    "                                    'invsol_file': {\n",
    "                                            'scope': 'Cartool',\n",
    "                                            'extensions': ['LAURA.is']\n",
    "                                            },\n",
    "                                    }\n",
    "# Data sinker for output\n",
    "sinker = pe.Node(nio.DataSink(), name=\"eeg_sinker\")\n",
    "sinker.inputs.base_directory = os.path.abspath(cmp_deriv_subject_directory)\n",
    "\n",
    " # Clear previous outputs\n",
    "self.clear_stages_outputs()\n",
    "\n",
    "# Create common_flow\n",
    "eeg_flow = pe.Workflow(name='eeg_pipeline', base_dir=os.path.abspath(\n",
    "    nipype_deriv_subject_directory))\n",
    "\n",
    "\n",
    "eeg_inputnode = pe.Node(interface=util.IdentityInterface(\n",
    "                    fields=['epochs', \n",
    "                            'behav', \n",
    "                            'src_file', \n",
    "                            'invsol_file', \n",
    "                            'lamda', \n",
    "                            'rois_file', \n",
    "                            'svd_params'\n",
    "                            ], \n",
    "                    mandatory_inputs=True), name=\"inputnode\")\n",
    "\n",
    "eeg_outputnode = pe.Node(interface=util.IdentityInterface(\n",
    "                    fields=[\"roi_ts_file\"]), name=\"outputnode\")\n",
    "\n",
    "eeg_flow.add_nodes([eeg_inputnode, eeg_outputnode])\n",
    "\n",
    "eeg_flow.connect([\n",
    "    (datasource, eeg_inputnode, \n",
    "        [(\"EEG\", \"epochs\"),\n",
    "        ('behav','behav_file'),\n",
    "        ('src_file','src_file')\n",
    "        ('invsol_file','invsol_file'),            \t\n",
    "        ]),\n",
    "])\n",
    "\n",
    "eeg_flow.connect([(eeg_inputnode, eeglab2fif_node,\n",
    "                 [('epochs','eeg_ts_file'),\n",
    "                  ('behav','behav_file'),\n",
    "                 ]\n",
    "    )])\n",
    "\n",
    "eeg_flow.connect([(eeg_inputnode, is_node,\n",
    "                 [('src_file','src_file'),\n",
    "                  ('invsol_file','invsol_file'),\n",
    "                  ('lamda','lamda'),\n",
    "                  ('rois_file','rois_file'),\n",
    "                  ('svd_params','svd_params'),\n",
    "                 ]\n",
    "    )])\n",
    "\n",
    "eeg_flow.connect([(eeglab2fif_node, is_node,\n",
    "                 [('fif_ts_file','epochs_file'),\n",
    "\n",
    "                 ]\n",
    "    )])\n",
    "\n",
    "eeg_flow.connect([(is_node, eeg_outputnode,\n",
    "                 [('roi_ts_file','roi_ts_file'),\n",
    "                 ]\n",
    "    )])"
   ]
  },
  {
   "cell_type": "code",
   "execution_count": null,
   "metadata": {},
   "outputs": [],
   "source": []
  }
 ],
 "metadata": {
  "kernelspec": {
   "display_name": "Python 3",
   "language": "python",
   "name": "python3"
  }
 },
 "nbformat": 4,
 "nbformat_minor": 4
}

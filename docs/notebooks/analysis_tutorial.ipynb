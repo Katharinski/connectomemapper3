{
 "cells": [
  {
   "cell_type": "markdown",
   "metadata": {},
   "source": [
    "# Analysis Tutorial\n",
    "\n",
    "This tutorial demonstrates how to analyze and interpret the outputs from Connectomemapper 3. In particular it will tell you how to:\n",
    "\n",
    "- Get the list of connectome files with [Pybids](https://pypi.org/project/pybids/)\n",
    "- Read the .tsv connectome files with [Networkx](https://pypi.org/project/networkx/) and [Pandas](https://pandas.pydata.org/)\n",
    "- Read the .gpickle files with Networkx\n",
    "- Read the .mat files with [Scipy](https://scipy.org/)\n",
    "- Compute the connectome harmonics with [PyGSP](https://pygsp.readthedocs.io/en/stable/index.html)\n",
    "- Visualize the harmonics with the plot functions of [Nilearn](https://nilearn.github.io/stable/index.html)"
   ]
  },
  {
   "cell_type": "markdown",
   "metadata": {},
   "source": [
    "## Setup instructions\n",
    "\n",
    "If you want to reproduce all the results of this notebook on your side, a conda ``environment.yml`` file can be downloaded at the following link: [tutorial_environment.yml](tutorial_environment.yml). The original ``.ipynb`` notebook file can be downloaded at the following link: [analysis_tutorial.ipynb](analysis_tutorial.ipynb).\n",
    "\n",
    "Once you have downloaded the conda environment file, install the environment as follows:\n",
    "```bash\n",
    "$ conda create env -f /path/to/downloaded/analysis_tutorial.yml\n",
    "```\n",
    "This will install all the packages needed to run this notebook including jupyter lab.\n",
    "\n",
    "You can then activate it, go to the directory where you downloaded the ``analysis_tutorial.ipynb``, and launch jupyter lab as follows:\n",
    "\n",
    "```bash\n",
    "$ cd /directory/of/downloaded/analysis_tutorial.ipynb/\n",
    "$ conda activate cmp3-tutorial\n",
    "$ jupyter lab\n",
    "```\n",
    "\n",
    "You are ready to open and interact with the notebook!"
   ]
  },
  {
   "cell_type": "markdown",
   "metadata": {},
   "source": [
    "## Loading the external python packages"
   ]
  },
  {
   "cell_type": "code",
   "execution_count": null,
   "metadata": {},
   "outputs": [],
   "source": [
    "# General\n",
    "import os\n",
    "import sys\n",
    "\n",
    "# Dataset management\n",
    "import datalad.api as dl\n",
    "\n",
    "# Data handling\n",
    "import pandas as pd\n",
    "import numpy as np\n",
    "import nibabel as nib\n",
    "import scipy.io as sio\n",
    "\n",
    "# BIDS dataset handling\n",
    "from bids import BIDSLayout\n",
    "\n",
    "# Network / Graph\n",
    "import pygsp\n",
    "import networkx as nx\n",
    "\n",
    "# Visualization\n",
    "import seaborn as sns\n",
    "import matplotlib.pyplot as plt\n",
    "import nilearn\n",
    "from nilearn import plotting, image, datasets"
   ]
  },
  {
   "cell_type": "markdown",
   "metadata": {},
   "source": [
    "## Loading the connectome files\n",
    "\n",
    "For demonstration, we are going to use the VEPCON dataset, available on [Open Neuro](https://openneuro.org/datasets/ds003505/versions/1.0.2) that already contains output from Connectomemapper. A full description of the dataset can be found in [Pascucci, Tourbier, et al. 2022].\n",
    "\n",
    "[Pascucci, Tourbier, et al. 2022]: https://doi.org/10.1038/s41597-021-01116-1"
   ]
  },
  {
   "cell_type": "code",
   "execution_count": null,
   "metadata": {},
   "outputs": [],
   "source": [
    "# download example dataset with datalad\n",
    "# uncomment next line once the new dataset is up\n",
    "#vepcon_data = dl.install(path=os.path.join(\"..\", \"..\", \"example_data\"),\n",
    "#                         source=\"https://github.com/OpenNeuroDatasets/ds003505.git\")"
   ]
  },
  {
   "cell_type": "markdown",
   "metadata": {},
   "source": [
    "As the dataset is in [BIDS](https://bids.neuroimaging.io/), we can use [Pybids](https://bids-standard.github.io/pybids/) to help us with the task of interacting with the files of the dataset."
   ]
  },
  {
   "cell_type": "code",
   "execution_count": null,
   "metadata": {},
   "outputs": [],
   "source": [
    "#layout = BIDSLayout(vepcon_data.path)\n",
    "# add derivative folder containing the connectivity matrices\n",
    "#layout.add_derivatives(os.path.join(vepcon_data.path, \"derivatives\", \"cmp-v3.0.0-beta-RC1\"))"
   ]
  },
  {
   "cell_type": "code",
   "execution_count": null,
   "metadata": {},
   "outputs": [],
   "source": [
    "#layout = BIDSLayout(vepcon_data.path)\n",
    "path = os.path.join(\"/home\", \"localadmin\", \"data\", \"ds003505-sample\")\n",
    "layout = BIDSLayout(path)\n",
    "# add derivative folder containing the connectivity matrices\n",
    "#layout.add_derivatives(os.path.join(vepcon_data.path, \"derivatives\", \"cmp-v3.0.0-beta-RC1\"))\n",
    "layout.add_derivatives(os.path.join(path, \"derivatives\", \"cmp-v3.0.1\"))"
   ]
  },
  {
   "cell_type": "markdown",
   "metadata": {},
   "source": [
    "Now we can easily query for the filenames of the files we are interested in using `layout.get`. We will ask for the connectivity matrix of subject 01, scale 3, in tsv format. It will be returned as a list of file paths (in this case containing just one element)."
   ]
  },
  {
   "cell_type": "code",
   "execution_count": null,
   "metadata": {},
   "outputs": [],
   "source": [
    "conn_tsv_scale3 = layout.get(subject='01', extension='tsv',\n",
    "                             suffix='connectivity', return_type='filename',\n",
    "                             res='scale3')\n",
    "conn_tsv_scale3"
   ]
  },
  {
   "cell_type": "markdown",
   "metadata": {},
   "source": [
    "We can then use [Pandas](https://pandas.pydata.org/) to read the file and display it as a table."
   ]
  },
  {
   "cell_type": "code",
   "execution_count": null,
   "metadata": {},
   "outputs": [],
   "source": [
    "#edges = pd.read_csv(con_files[0], delimiter=\"\\t\")\n",
    "edges = pd.read_csv(conn_tsv_scale3[0], delimiter=\"\\t\")\n",
    "edges.head()"
   ]
  },
  {
   "cell_type": "markdown",
   "metadata": {},
   "source": [
    "Using [Networkx](https://networkx.org/documentation/stable/index.html), we can convert this table to a network graph. From that, we can convert individual measures to a [Numpy](https://numpy.org/) array. The array format is especially useful, as it allows us to plot the edge weights easily."
   ]
  },
  {
   "cell_type": "code",
   "execution_count": null,
   "metadata": {},
   "outputs": [],
   "source": [
    "G = nx.from_pandas_edgelist(edges, edge_attr=True)\n",
    "A_fiber_density = nx.to_numpy_array(G, weight=\"fiber_density\")"
   ]
  },
  {
   "cell_type": "markdown",
   "metadata": {},
   "source": [
    "Alternatively, we can also load the matrices in network format, by reading the gpickle files using Networkx:"
   ]
  },
  {
   "cell_type": "code",
   "execution_count": null,
   "metadata": {},
   "outputs": [],
   "source": [
    "conn_gpickle_scale3 = layout.get(subject='01', extension='gpickle',\n",
    "                                 suffix='connectivity',\n",
    "                                 return_type='filename',\n",
    "                                 res='scale3')\n",
    "G = nx.read_gpickle(conn_gpickle_scale3[0])  # same format as with tsv"
   ]
  },
  {
   "cell_type": "markdown",
   "metadata": {},
   "source": [
    "...or load the .mat files with [Scipy](https://scipy.org/):"
   ]
  },
  {
   "cell_type": "code",
   "execution_count": null,
   "metadata": {},
   "outputs": [],
   "source": [
    "conn_mat_scale3 = layout.get(subject='01', extension='mat',\n",
    "                             suffix='connectivity', return_type='filename',\n",
    "                             res='scale3')\n",
    "A_mat = sio.loadmat(conn_mat_scale3[0])"
   ]
  },
  {
   "cell_type": "markdown",
   "metadata": {},
   "source": [
    "The adjacency matrices here can be accessed as followss:"
   ]
  },
  {
   "cell_type": "code",
   "execution_count": null,
   "metadata": {},
   "outputs": [],
   "source": [
    "A_mat[\"sc\"][\"fiber_density\"][0][0]"
   ]
  },
  {
   "cell_type": "markdown",
   "metadata": {},
   "source": [
    "## Plotting the adjacency matrices\n",
    "\n",
    "Let's plot some of those adjacency matrices using [Matplotlib](https://matplotlib.org/) and [Seaborn](http://seaborn.pydata.org/index.html):"
   ]
  },
  {
   "cell_type": "code",
   "execution_count": null,
   "metadata": {},
   "outputs": [],
   "source": [
    "cols_to_plot = [\"number_of_fibers\", \"fiber_length_mean\",\n",
    "                \"fiber_proportion\", \"fiber_density\",\n",
    "                \"FA_mean\", \"normalized_fiber_density\"]\n",
    "\n",
    "fig, axs = plt.subplots(3,2, figsize=(12,15))\n",
    "axs = axs.flatten()\n",
    "for c, ax in zip(cols_to_plot, axs):\n",
    "    A = nx.to_numpy_array(G, weight=c)\n",
    "    sns.heatmap(A, ax=ax)\n",
    "    ax.set_title(c)"
   ]
  },
  {
   "cell_type": "markdown",
   "metadata": {},
   "source": [
    "## Graph signal processing with structural connectivity and visualization"
   ]
  },
  {
   "cell_type": "markdown",
   "metadata": {},
   "source": [
    "The package [PyGSP](https://pygsp.readthedocs.io/en/stable/index.html) offers a range of graph signal processing tools we can use on our structural connectivity data. In particular, we can do an eigendecomposition of the [graph Laplacian](https://en.wikipedia.org/wiki/Laplacian_matrix) to get the Fourier basis - the connectome harmonics.\n",
    "\n",
    "Even though it is possible to also do this for subcortical regions, for the sake of plotting it is easier just to work with the cortical regions. To identify those, we need the parcellation labels."
   ]
  },
  {
   "cell_type": "code",
   "execution_count": null,
   "metadata": {},
   "outputs": [],
   "source": [
    "# UPDATE PATH ONCE AVAILABLE\n",
    "anat_folder = \"/home/localadmin/data/ds003505-sample/derivatives/cmp-v3.0.1/sub-01/anat\"\n",
    "# read label tsv file\n",
    "label_path = os.path.join(anat_folder, \"sub-01_atlas-L2018_res-scale3_dseg.tsv\")\n",
    "labels = pd.read_csv(label_path, sep=\"\\t\", index_col=0)\n",
    "# reset index to start at 0\n",
    "labels.reset_index(inplace=True)\n",
    "# select cortex labels\n",
    "labels_ctx = labels[\"name\"][[n.startswith(\"ctx\") for n in labels[\"name\"]]].copy()\n",
    "idx = list(labels_ctx.index)\n",
    "# select rows with cortical areas\n",
    "#A_fd_ctx = A_fiber_density[idx]\n",
    "A = nx.to_numpy_array(G, weight=\"FA_mean\")\n",
    "A_fd_ctx = A[idx]\n",
    "# select columns with cortical areas\n",
    "A_fd_ctx = A_fd_ctx[:,idx]"
   ]
  },
  {
   "cell_type": "code",
   "execution_count": null,
   "metadata": {},
   "outputs": [],
   "source": [
    "A_fd_ctx.shape"
   ]
  },
  {
   "cell_type": "markdown",
   "metadata": {},
   "source": [
    "Now we can compute the harmonics:"
   ]
  },
  {
   "cell_type": "code",
   "execution_count": null,
   "metadata": {},
   "outputs": [],
   "source": [
    "np.fill_diagonal(A_fd_ctx, 0)  # PyGSP does not support self-loops\n",
    "G_fd = pygsp.graphs.Graph(A_fd_ctx)  # PyGSP graph\n",
    "G_fd.compute_laplacian(lap_type=\"normalized\")\n",
    "G_fd.compute_fourier_basis()  # compute connectome harmonics"
   ]
  },
  {
   "cell_type": "markdown",
   "metadata": {},
   "source": [
    "The harmonics have the same dimensions as our original adjacency matrix."
   ]
  },
  {
   "cell_type": "code",
   "execution_count": null,
   "metadata": {},
   "outputs": [],
   "source": [
    "G_fd.U.shape"
   ]
  },
  {
   "cell_type": "markdown",
   "metadata": {},
   "source": [
    "Each column contains one basis vector."
   ]
  },
  {
   "cell_type": "markdown",
   "metadata": {},
   "source": [
    "### Basic visualization with ``Nilearn``\n",
    "\n",
    "[Nilearn](https://nilearn.github.io/stable/index.html) offers a quick and easy way to plot them using `plot_markers`. For this, we need the center coordinates of each region in the parcellation in MNI space. For your convenience, they have been already computed and can be easily retrieved with the `get_lausanne2018_parcellation_mni_coords(scale)` utility function of CMP3."
   ]
  },
  {
   "cell_type": "code",
   "execution_count": null,
   "metadata": {},
   "outputs": [],
   "source": [
    "from cmtklib.data.parcellation.util import get_lausanne2018_parcellation_mni_coords"
   ]
  },
  {
   "cell_type": "code",
   "execution_count": null,
   "metadata": {},
   "outputs": [],
   "source": [
    "# load coordinates with the utility function provided by CMP3\n",
    "coords_ctx = get_lausanne2018_parcellation_mni_coords('scale3')\n",
    "# plot\n",
    "plotting.plot_markers(G_fd.U[:,1], coords_ctx)"
   ]
  },
  {
   "cell_type": "markdown",
   "metadata": {},
   "source": [
    "### Advanced visualization with ``Nilearn``\n",
    "\n",
    "A prettier version is to plot the connectome harmonics on a brain surface using Nilearn `plot_surf_roi()`. For your convenience, a multiple view plot can be easily generated and saved with the `plot_lausanne2018_surface_ctx()` of the `cmtklib.data.parcellation.viz` module of CMP3, by specifying the scale to use.\n",
    "\n",
    "These figures take a few minutes to generate, so you might need to be a bit patient."
   ]
  },
  {
   "cell_type": "code",
   "execution_count": null,
   "metadata": {},
   "outputs": [],
   "source": [
    "from cmtklib.data.parcellation.viz import plot_lausanne2018_surface_ctx"
   ]
  },
  {
   "cell_type": "code",
   "execution_count": null,
   "metadata": {},
   "outputs": [],
   "source": [
    "plot_lausanne2018_surface_ctx(G_fd.U[:,1], scale='scale3', save_fig=True)"
   ]
  },
  {
   "cell_type": "markdown",
   "metadata": {},
   "source": [
    "Pretty, right? This concludes the tutorial.\n",
    "\n",
    "## Want to learn more about connectome harmonics?\n",
    "\n",
    "Here are some references:\n",
    "\n",
    "- Human brain networks function in connectome-specific harmonic waves (Atasoy et al., 2016, [link](https://www.nature.com/articles/ncomms10340)): Landmark paper that first applied graph signal processing to brain connectivity.\n",
    "\n",
    "- Functional harmonics reveal multi-dimensional basis functions underlying cortical organization (Glomb et al., 2021, [link](https://doi.org/10.1016/j.celrep.2021.109554)): Connectome harmonics of functional connectivity.\n",
    "\n",
    "- The connectome spectrum as a canonical basis for a sparse representation of fast brain activity (Rué-Queralt et al., 2021, [link](10.1016/j.neuroimage.2021.118611)): EEG and connectome harmonics."
   ]
  },
  {
   "cell_type": "code",
   "execution_count": null,
   "metadata": {},
   "outputs": [],
   "source": []
  }
 ],
 "metadata": {
  "kernelspec": {
   "display_name": "Python 3 (ipykernel)",
   "language": "python",
   "name": "python3"
  },
  "language_info": {
   "codemirror_mode": {
    "name": "ipython",
    "version": 3
   },
   "file_extension": ".py",
   "mimetype": "text/x-python",
   "name": "python",
   "nbconvert_exporter": "python",
   "pygments_lexer": "ipython3",
   "version": "3.7.12"
  }
 },
 "nbformat": 4,
 "nbformat_minor": 4
}

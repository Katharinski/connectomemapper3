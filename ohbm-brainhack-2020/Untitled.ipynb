{
 "cells": [
  {
   "cell_type": "markdown",
   "metadata": {},
   "source": [
    "### Import dependencies"
   ]
  },
  {
   "cell_type": "code",
   "execution_count": 1,
   "metadata": {},
   "outputs": [],
   "source": [
    "import os\n",
    "import numpy as np\n",
    "import mne\n",
    "from _tsv_handler import _from_tsv\n",
    "from collections import defaultdict"
   ]
  },
  {
   "cell_type": "code",
   "execution_count": 2,
   "metadata": {},
   "outputs": [],
   "source": [
    "from _electrode_reader import _handle_electrodes_reading"
   ]
  },
  {
   "cell_type": "markdown",
   "metadata": {},
   "source": [
    "### Check files"
   ]
  },
  {
   "cell_type": "code",
   "execution_count": 3,
   "metadata": {
    "scrolled": true
   },
   "outputs": [
    {
     "name": "stdout",
     "output_type": "stream",
     "text": [
      "sub-002_task-FaceRecognition_events.tsv\n",
      "._sub-002_task-FaceRecognition_eeg.json\n",
      "sub-002_task-FaceRecognition_electrodes.tsv\n",
      "sub-002_task-FaceRecognition_eeg.json\n",
      "sub-002_task-FaceRecognition_eeg.set\n",
      "sub-002_task-FaceRecognition_coordsystem.json\n",
      "sub-002_task-FaceRecognition_events.json\n",
      "sub-002_task-FaceRecognition_eeg.fdt\n",
      "sub-002_task-FaceRecognition_channels.tsv\n"
     ]
    }
   ],
   "source": [
    "eeg_path = '/home/localadmin/Documents/research/2_projects/CMP_EEG/ds002718-cmpeeg/sub-002/eeg/'\n",
    "for elem in os.listdir(eeg_path):\n",
    "    print(elem)"
   ]
  },
  {
   "cell_type": "markdown",
   "metadata": {},
   "source": [
    "### Create MNE raw object"
   ]
  },
  {
   "cell_type": "code",
   "execution_count": 4,
   "metadata": {},
   "outputs": [
    {
     "name": "stderr",
     "output_type": "stream",
     "text": [
      "<ipython-input-4-0306d350f264>:1: DeprecationWarning: stim_channel (default True in 0.17) will change to False in 0.18 and be removed in 0.19, set it to False in 0.17 to avoid this warning\n",
      "  raw = mne.io.read_raw_eeglab(os.path.join(eeg_path,'sub-002_task-FaceRecognition_eeg.set'),uint16_codec='utf-8')\n"
     ]
    },
    {
     "name": "stdout",
     "output_type": "stream",
     "text": [
      "Reading /home/localadmin/Documents/research/2_projects/CMP_EEG/ds002718-cmpeeg/sub-002/eeg/sub-002_task-FaceRecognition_eeg.fdt\n"
     ]
    },
    {
     "name": "stderr",
     "output_type": "stream",
     "text": [
      "<ipython-input-4-0306d350f264>:1: RuntimeWarning: The following EEG sensors did not have a position specified in the selected montage: [u'EEG061', u'EEG062', u'EEG063', u'EEG064']. Their position has been left untouched.\n",
      "  raw = mne.io.read_raw_eeglab(os.path.join(eeg_path,'sub-002_task-FaceRecognition_eeg.set'),uint16_codec='utf-8')\n"
     ]
    },
    {
     "name": "stdout",
     "output_type": "stream",
     "text": [
      "Used Annotations descriptions: []\n",
      "Returning empty stim channel. Some annotations werefound but dropped during build of the raw.Please use `event_id` and `event_id_func` to drivethe selection/rejection of events\n",
      "12 annotation(s) will be dropped, such as ['scrambled_second_early', 'scrambled_new', 'unfamiliar_second_late', 'left_nonsym', 'famous_second_early']. \n"
     ]
    },
    {
     "name": "stderr",
     "output_type": "stream",
     "text": [
      "<ipython-input-4-0306d350f264>:1: RuntimeWarning: The data contains 'boundary' events, indicating data discontinuities. Be cautious of filtering and epoching around these events.\n",
      "  raw = mne.io.read_raw_eeglab(os.path.join(eeg_path,'sub-002_task-FaceRecognition_eeg.set'),uint16_codec='utf-8')\n",
      "<ipython-input-4-0306d350f264>:1: RuntimeWarning: 1479/1479 event codes could not be mapped to integers. Use the 'event_id' parameter to map such events manually.\n",
      "  raw = mne.io.read_raw_eeglab(os.path.join(eeg_path,'sub-002_task-FaceRecognition_eeg.set'),uint16_codec='utf-8')\n",
      "<ipython-input-4-0306d350f264>:1: RuntimeWarning: Events like the following will be dropped entirely: ['scrambled_second_early', 'scrambled_new', 'unfamiliar_second_late', 'left_nonsym', 'famous_second_early'], 12 in total\n",
      "  raw = mne.io.read_raw_eeglab(os.path.join(eeg_path,'sub-002_task-FaceRecognition_eeg.set'),uint16_codec='utf-8')\n"
     ]
    }
   ],
   "source": [
    "raw = mne.io.read_raw_eeglab(os.path.join(eeg_path,'sub-002_task-FaceRecognition_eeg.set'),uint16_codec='utf-8')"
   ]
  },
  {
   "cell_type": "markdown",
   "metadata": {},
   "source": [
    "### Load channels"
   ]
  },
  {
   "cell_type": "code",
   "execution_count": 5,
   "metadata": {},
   "outputs": [],
   "source": [
    "channels_fname = os.path.join(eeg_path,'sub-002_task-FaceRecognition_channels.tsv')\n",
    "channels_dict = _from_tsv(channels_fname)"
   ]
  },
  {
   "cell_type": "code",
   "execution_count": 6,
   "metadata": {},
   "outputs": [],
   "source": [
    "# First, make sure that ordering of names in channels.tsv matches the\n",
    "# ordering of names in the raw data. The \"name\" column is mandatory in BIDS\n",
    "ch_names_raw = [ch_name.encode('utf-8') for ch_name in raw.ch_names]\n",
    "ch_names_tsv = channels_dict['name']\n",
    "if ch_names_raw != ch_names_tsv:\n",
    "\n",
    "    msg = ('Channels do not correspond between raw data and the '\n",
    "           'channels.tsv file. For MNE-BIDS, the channel names in the '\n",
    "           'tsv MUST be equal and in the same order as the channels in '\n",
    "           'the raw data.\\n\\n'\n",
    "           )\n",
    "\n",
    "    # XXX: this could be due to MNE inserting a 'STI 014' channel as the\n",
    "    # last channel: In that case, we can work. --> Can be removed soon,\n",
    "    # because MNE will stop the synthesis of stim channels in the near\n",
    "    # future\n",
    "    if not (ch_names_raw[-1] == 'STI 014' and\n",
    "            ch_names_raw[:-1] == ch_names_tsv):\n",
    "        raise RuntimeError(msg)\n",
    "    else: \n",
    "        ch_names_raw = ch_names_raw[:-1]"
   ]
  },
  {
   "cell_type": "code",
   "execution_count": 7,
   "metadata": {},
   "outputs": [],
   "source": [
    "def _get_ch_type_mapping(fro='mne', to='bids'):\n",
    "    \"\"\"Map between BIDS and MNE nomenclatures for channel types.\n",
    "    Parameters\n",
    "    ----------\n",
    "    fro : str\n",
    "        Mapping from nomenclature of `fro`. Can be 'mne', 'bids'\n",
    "    to : str\n",
    "        Mapping to nomenclature of `to`. Can be 'mne', 'bids'\n",
    "    Returns\n",
    "    -------\n",
    "    ch_type_mapping : collections.defaultdict\n",
    "        Dictionary mapping from one nomenclature of channel types to another.\n",
    "        If a key is not present, a default value will be returned that depends\n",
    "        on the `fro` and `to` parameters.\n",
    "    Notes\n",
    "    -----\n",
    "    For the mapping from BIDS to MNE, MEG channel types are ignored for now.\n",
    "    Furthermore, this is not a one-to-one mapping: Incomplete and partially\n",
    "    one-to-many/many-to-one.\n",
    "    \"\"\"\n",
    "    if fro == 'mne' and to == 'bids':\n",
    "        map_chs = dict(eeg='EEG', misc='MISC', stim='TRIG', emg='EMG',\n",
    "                       ecog='ECOG', seeg='SEEG', eog='EOG', ecg='ECG',\n",
    "                       # MEG channels\n",
    "                       meggradaxial='MEGGRADAXIAL', megmag='MEGMAG',\n",
    "                       megrefgradaxial='MEGREFGRADAXIAL',\n",
    "                       meggradplanar='MEGGRADPLANAR', megrefmag='MEGREFMAG',\n",
    "                       )\n",
    "        default_value = 'OTHER'\n",
    "\n",
    "    elif fro == 'bids' and to == 'mne':\n",
    "        map_chs = dict(EEG='eeg', MISC='misc', TRIG='stim', EMG='emg',\n",
    "                       ECOG='ecog', SEEG='seeg', EOG='eog', ECG='ecg',\n",
    "                       # No MEG channels for now\n",
    "                       # Many to one mapping\n",
    "                       VEOG='eog', HEOG='eog',\n",
    "                       )\n",
    "        default_value = 'misc'\n",
    "\n",
    "    else:\n",
    "        raise ValueError('Only two types of mappings are currently supported: '\n",
    "                         'from mne to bids, or from bids to mne. However, '\n",
    "                         'you specified from \"{}\" to \"{}\"'.format(fro, to))\n",
    "\n",
    "    # Make it a defaultdict to prevent key errors\n",
    "    ch_type_mapping = defaultdict(lambda: default_value)\n",
    "    ch_type_mapping.update(map_chs)\n",
    "\n",
    "    return ch_type_mapping"
   ]
  },
  {
   "cell_type": "code",
   "execution_count": 8,
   "metadata": {},
   "outputs": [],
   "source": [
    "# Now we can do some work.\n",
    "# The \"type\" column is mandatory in BIDS. We can use it to set channel\n",
    "# types in the raw data using a mapping between channel types\n",
    "channel_type_dict = dict()\n",
    "\n",
    "# Get the best mapping we currently have from BIDS to MNE nomenclature\n",
    "bids_to_mne_ch_types = _get_ch_type_mapping(fro='bids', to='mne')\n",
    "ch_types_json = channels_dict['type']\n",
    "for ch_name, ch_type in zip(ch_names_tsv, ch_types_json):\n",
    "    # Try to map from BIDS nomenclature to MNE, leave channel type\n",
    "    # untouched if we are uncertain\n",
    "    updated_ch_type = bids_to_mne_ch_types.get(ch_type, None)\n",
    "    if updated_ch_type is not None:\n",
    "        channel_type_dict[ch_name] = updated_ch_type\n",
    "\n",
    "# Set the channel types in the raw data according to channels.tsv\n",
    "raw.set_channel_types(channel_type_dict)\n",
    "\n",
    "# Check whether there is the optional \"status\" column from which to infer\n",
    "# good and bad channels\n",
    "if 'status' in channels_dict:\n",
    "    # find bads from channels.tsv\n",
    "    bad_bool = [True if chn.lower() == 'bad' else False\n",
    "                for chn in channels_dict['status']]\n",
    "    bads = np.asarray(channels_dict['name'])[bad_bool]\n",
    "\n",
    "    # merge with bads already present in raw data file (if there are any)\n",
    "    unique_bads = set(raw.info['bads']).union(set(bads))\n",
    "    raw.info['bads'] = list(unique_bads)\n"
   ]
  },
  {
   "cell_type": "code",
   "execution_count": 9,
   "metadata": {},
   "outputs": [],
   "source": [
    "import json \n",
    "\n",
    "def _read_dig_bids(electrodes_fpath, coordsystem_fpath,\n",
    "                   raw, kind, verbose):\n",
    "    \"\"\"Read MNE-Python formatted DigMontage from BIDS files.\n",
    "    Handles coordinatesystem.json and electrodes.tsv reading\n",
    "    to DigMontage.\n",
    "    Parameters\n",
    "    ----------\n",
    "    electrodes_fpath : str\n",
    "        Filepath of the electrodes.tsv to read.\n",
    "    coordsystem_fpath : str\n",
    "        Filepath of the coordsystem.json to read.\n",
    "    raw : instance of Raw\n",
    "        The data as MNE-Python Raw object.\n",
    "    kind : str\n",
    "        Type of the data as in ALLOWED_KINDS.\n",
    "    verbose : bool\n",
    "        Set verbose output to true or false.\n",
    "    Returns\n",
    "    -------\n",
    "    raw : instance of Raw\n",
    "        The data as MNE-Python Raw object.\n",
    "    \"\"\"\n",
    "    \n",
    "    space = ''\n",
    "    \n",
    "    # read in coordinate information\n",
    "    with open(coordsystem_fpath, 'r') as fin:\n",
    "        coordsystem_json = json.load(fin)\n",
    "    \n",
    "    print(coordsystem_json)\n",
    "    coord_frame = coordsystem_json['EEGCoordinateSystem'].lower()\n",
    "    coord_unit = coordsystem_json['EEGCoordinateUnits']\n",
    "    coord_frame_desc = coordsystem_json.get('EEGCoordinateDescription',\n",
    "                                            None)\n",
    "    \n",
    "    # only accept captrak\n",
    "    if coord_frame not in ['captrak','ars']:\n",
    "        coord_frame = None\n",
    "    else:\n",
    "        coord_frame = 'head'\n",
    "    \n",
    "# check coordinate units\n",
    "    if coord_unit not in ['m', 'cm', 'mm']:\n",
    "        coord_frame = None\n",
    "    # only set montage if coordinate frame was properly parsed\n",
    "    if coord_frame is not None:\n",
    "        print('Read in electrode coordinates and attach to raw')\n",
    "        raw = _handle_electrodes_reading(electrodes_fpath, coord_frame,\n",
    "                                         coord_unit, raw, verbose)\n",
    "\n",
    "    return raw"
   ]
  },
  {
   "cell_type": "code",
   "execution_count": 10,
   "metadata": {},
   "outputs": [
    {
     "name": "stdout",
     "output_type": "stream",
     "text": [
      "{u'EEGCoordinateUnits': u'mm', u'EEGCoordinateSystem': u'ARS'}\n",
      "Read in electrode coordinates and attach to raw\n",
      "Reading electrode coords from /home/localadmin/Documents/research/2_projects/CMP_EEG/ds002718-cmpeeg/sub-002/eeg/sub-002_task-FaceRecognition_electrodes.tsv.\n",
      "('The read in electrodes file is: \\n', [('name', ['EEG001', 'EEG002', 'EEG003', 'EEG004', 'EEG005', 'EEG006', 'EEG007', 'EEG008', 'EEG009', 'EEG010', 'EEG011', 'EEG012', 'EEG013', 'EEG014', 'EEG015', 'EEG016', 'EEG017', 'EEG018', 'EEG019', 'EEG020', 'EEG021', 'EEG022', 'EEG023', 'EEG024', 'EEG025', 'EEG026', 'EEG027', 'EEG028', 'EEG029', 'EEG030', 'EEG031', 'EEG032', 'EEG033', 'EEG034', 'EEG035', 'EEG036', 'EEG037', 'EEG038', 'EEG039', 'EEG040', 'EEG041', 'EEG042', 'EEG043', 'EEG044', 'EEG045', 'EEG046', 'EEG047', 'EEG048', 'EEG049', 'EEG050', 'EEG051', 'EEG052', 'EEG053', 'EEG054', 'EEG055', 'EEG056', 'EEG057', 'EEG058', 'EEG059', 'EEG060', 'EEG061', 'EEG062', 'EEG063', 'EEG064', 'EEG065', 'EEG066', 'EEG067', 'EEG068', 'EEG069', 'EEG070', 'EEG071', 'EEG072', 'EEG073', 'EEG074']), ('x', ['-4.17', '0.46', '4.20', '-4.67', '-2.51', '0.67', '3.86', '5.64', '-5.75', '-5.04', '-3.60', '-1.60', '0.57', '3.18', '5.00', '6.19', '6.80', '-6.75', '-6.68', '-6.08', '-4.63', '-2.49', '0.40', '3.40', '5.64', '7.16', '7.79', '7.67', '-6.73', '-7.23', '-6.65', '-5.23', '-2.81', '0.05', '3.18', '5.70', '7.61', '8.25', '7.67', '-6.58', '-7.03', '-6.51', '-5.06', '-2.61', '0.22', '3.07', '5.54', '7.12', '7.57', '7.51', '-5.77', '-6.09', '-5.74', '-4.50', '-2.20', '0.03', '2.57', '4.44', '5.89', '6.33', 'n/a', 'n/a', 'n/a', 'n/a', '6.28', '-4.75', '-3.08', '-0.14', '3.13', '4.51', '-2.96', '-0.23', '2.25', '0.29']), ('y', ['-6.62', '10.83', '-7.30', '8.61', '9.79', '10.16', '9.21', '7.94', '6.46', '7.19', '7.59', '7.70', '7.92', '7.28', '7.10', '6.48', '5.54', '3.26', '3.87', '4.40', '4.61', '4.74', '4.85', '4.47', '3.68', '3.45', '2.78', '2.45', '1.30', '0.92', '1.35', '1.28', '1.16', '1.09', '0.65', '0.66', '0.42', '0.04', '0.58', '-2.74', '-1.93', '-1.94', '-1.97', '-2.05', '-2.87', '-2.51', '-2.80', '-2.88', '-3.09', '-3.69', '-4.93', '-4.29', '-4.48', '-4.84', '-5.08', '-5.35', '-5.03', '-5.42', '-5.40', '-5.46', 'n/a', 'n/a', 'n/a', 'n/a', '-5.58', '-6.36', '-6.99', '-7.46', '-7.53', '-7.52', '-7.85', '-8.72', '-8.69', '-8.30']), ('z', ['1.68', '3.59', '1.86', '3.37', '6.06', '7.18', '6.14', '3.24', '3.92', '6.42', '8.18', '9.66', '10.03', '9.54', '7.76', '5.82', '3.41', '1.14', '4.33', '7.08', '9.42', '10.98', '11.55', '10.89', '9.40', '6.96', '4.35', '0.78', '1.17', '4.38', '7.71', '10.10', '11.80', '12.76', '11.84', '10.38', '7.71', '4.44', '1.03', '1.10', '4.35', '7.64', '10.07', '11.71', '12.30', '11.82', '10.19', '7.68', '4.58', '1.33', '1.48', '4.72', '7.21', '9.25', '10.63', '11.00', '10.76', '9.48', '7.31', '5.00', 'n/a', 'n/a', 'n/a', 'n/a', '1.72', '4.96', '7.89', '8.63', '8.10', '5.54', '5.47', '5.59', '5.71', '1.82'])])\n"
     ]
    },
    {
     "name": "stderr",
     "output_type": "stream",
     "text": [
      "_electrode_reader.py:87: RuntimeWarning: There are channels without locations (n/a) that are not marked as bad: ['EEG061', 'EEG062', 'EEG063', 'EEG064']\n",
      "  \"(n/a) that are not marked as bad: {}\".format(nan_chs))\n"
     ]
    },
    {
     "ename": "AttributeError",
     "evalue": "'module' object has no attribute 'make_dig_montage'",
     "output_type": "error",
     "traceback": [
      "\u001b[0;31m---------------------------------------------------------------------------\u001b[0m",
      "\u001b[0;31mAttributeError\u001b[0m                            Traceback (most recent call last)",
      "\u001b[0;32m<ipython-input-10-bced561f3bba>\u001b[0m in \u001b[0;36m<module>\u001b[0;34m()\u001b[0m\n\u001b[1;32m      6\u001b[0m \u001b[0;34m\u001b[0m\u001b[0m\n\u001b[1;32m      7\u001b[0m raw = _read_dig_bids(electrodes_fname, coordsystem_fname,\n\u001b[0;32m----> 8\u001b[0;31m                              raw, kind='eeg', verbose=1)\n\u001b[0m",
      "\u001b[0;32m<ipython-input-9-aa2089b293ad>\u001b[0m in \u001b[0;36m_read_dig_bids\u001b[0;34m(electrodes_fpath, coordsystem_fpath, raw, kind, verbose)\u001b[0m\n\u001b[1;32m     49\u001b[0m         \u001b[0;32mprint\u001b[0m\u001b[0;34m(\u001b[0m\u001b[0;34m'Read in electrode coordinates and attach to raw'\u001b[0m\u001b[0;34m)\u001b[0m\u001b[0;34m\u001b[0m\u001b[0m\n\u001b[1;32m     50\u001b[0m         raw = _handle_electrodes_reading(electrodes_fpath, coord_frame,\n\u001b[0;32m---> 51\u001b[0;31m                                          coord_unit, raw, verbose)\n\u001b[0m\u001b[1;32m     52\u001b[0m \u001b[0;34m\u001b[0m\u001b[0m\n\u001b[1;32m     53\u001b[0m     \u001b[0;32mreturn\u001b[0m \u001b[0mraw\u001b[0m\u001b[0;34m\u001b[0m\u001b[0m\n",
      "\u001b[0;32m/home/localadmin/Documents/research/2_projects/CMP_EEG/connectomemapper3/ohbm-brainhack-2020/_electrode_reader.py\u001b[0m in \u001b[0;36m_handle_electrodes_reading\u001b[0;34m(electrodes_fname, coord_frame, coord_unit, raw, verbose)\u001b[0m\n\u001b[1;32m     92\u001b[0m     \u001b[0;31m# create mne.DigMontage\u001b[0m\u001b[0;34m\u001b[0m\u001b[0;34m\u001b[0m\u001b[0m\n\u001b[1;32m     93\u001b[0m     \u001b[0mch_pos\u001b[0m \u001b[0;34m=\u001b[0m \u001b[0mdict\u001b[0m\u001b[0;34m(\u001b[0m\u001b[0mzip\u001b[0m\u001b[0;34m(\u001b[0m\u001b[0mch_names_raw\u001b[0m\u001b[0;34m,\u001b[0m \u001b[0mch_locs\u001b[0m\u001b[0;34m)\u001b[0m\u001b[0;34m)\u001b[0m\u001b[0;34m\u001b[0m\u001b[0m\n\u001b[0;32m---> 94\u001b[0;31m     montage = mne.channels.make_dig_montage(ch_pos=ch_pos,\n\u001b[0m\u001b[1;32m     95\u001b[0m                                             coord_frame=coord_frame)\n\u001b[1;32m     96\u001b[0m     \u001b[0mraw\u001b[0m\u001b[0;34m.\u001b[0m\u001b[0mset_montage\u001b[0m\u001b[0;34m(\u001b[0m\u001b[0mmontage\u001b[0m\u001b[0;34m)\u001b[0m\u001b[0;34m\u001b[0m\u001b[0m\n",
      "\u001b[0;31mAttributeError\u001b[0m: 'module' object has no attribute 'make_dig_montage'"
     ]
    }
   ],
   "source": [
    "# Try to find an associated electrodes.tsv and coordsystem.json\n",
    "# to get information about the status and type of present channels\n",
    "\n",
    "electrodes_fname = os.path.join(eeg_path,'sub-002_task-FaceRecognition_electrodes.tsv')\n",
    "coordsystem_fname = os.path.join(eeg_path,'sub-002_task-FaceRecognition_coordsystem.json')\n",
    "\n",
    "raw = _read_dig_bids(electrodes_fname, coordsystem_fname,\n",
    "                             raw, kind='eeg', verbose=1)"
   ]
  },
  {
   "cell_type": "code",
   "execution_count": null,
   "metadata": {},
   "outputs": [],
   "source": [
    "mne.channels.montage.DigMontage()"
   ]
  },
  {
   "cell_type": "code",
   "execution_count": null,
   "metadata": {},
   "outputs": [],
   "source": []
  },
  {
   "cell_type": "code",
   "execution_count": null,
   "metadata": {},
   "outputs": [],
   "source": []
  },
  {
   "cell_type": "code",
   "execution_count": null,
   "metadata": {},
   "outputs": [],
   "source": []
  },
  {
   "cell_type": "code",
   "execution_count": null,
   "metadata": {},
   "outputs": [],
   "source": []
  },
  {
   "cell_type": "code",
   "execution_count": null,
   "metadata": {},
   "outputs": [],
   "source": []
  },
  {
   "cell_type": "code",
   "execution_count": null,
   "metadata": {},
   "outputs": [],
   "source": []
  },
  {
   "cell_type": "code",
   "execution_count": null,
   "metadata": {},
   "outputs": [],
   "source": []
  },
  {
   "cell_type": "code",
   "execution_count": null,
   "metadata": {},
   "outputs": [],
   "source": []
  }
 ],
 "metadata": {
  "kernelspec": {
   "display_name": "Python 2",
   "language": "python",
   "name": "python2"
  },
  "language_info": {
   "codemirror_mode": {
    "name": "ipython",
    "version": 2
   },
   "file_extension": ".py",
   "mimetype": "text/x-python",
   "name": "python",
   "nbconvert_exporter": "python",
   "pygments_lexer": "ipython2",
   "version": "2.7.15"
  }
 },
 "nbformat": 4,
 "nbformat_minor": 2
}

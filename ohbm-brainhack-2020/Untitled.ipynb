{
 "cells": [
  {
   "cell_type": "markdown",
   "metadata": {},
   "source": [
    "### Import dependencies"
   ]
  },
  {
   "cell_type": "code",
   "execution_count": 1,
   "metadata": {},
   "outputs": [],
   "source": [
    "import os\n",
    "import numpy as np\n",
    "import mne\n",
    "from mne.utils import logger\n",
    "from _tsv_handler import _from_tsv\n",
    "from collections import defaultdict\n"
   ]
  },
  {
   "cell_type": "code",
   "execution_count": 1,
   "metadata": {},
   "outputs": [
    {
     "ename": "ImportError",
     "evalue": "No module named _digitization",
     "output_type": "error",
     "traceback": [
      "\u001b[0;31m---------------------------------------------------------------------------\u001b[0m",
      "\u001b[0;31mImportError\u001b[0m                               Traceback (most recent call last)",
      "\u001b[0;32m<ipython-input-1-4ea5991619a1>\u001b[0m in \u001b[0;36m<module>\u001b[0;34m()\u001b[0m\n\u001b[0;32m----> 1\u001b[0;31m \u001b[0;32mfrom\u001b[0m \u001b[0m_electrode_reader\u001b[0m \u001b[0;32mimport\u001b[0m \u001b[0m_handle_electrodes_reading\u001b[0m\u001b[0;34m\u001b[0m\u001b[0m\n\u001b[0m",
      "\u001b[0;32m/home/localadmin/Documents/research/2_projects/CMP_EEG/connectomemapper3/ohbm-brainhack-2020/_electrode_reader.py\u001b[0m in \u001b[0;36m<module>\u001b[0;34m()\u001b[0m\n\u001b[1;32m      7\u001b[0m \u001b[0;32mfrom\u001b[0m \u001b[0mmne\u001b[0m\u001b[0;34m.\u001b[0m\u001b[0mutils\u001b[0m \u001b[0;32mimport\u001b[0m \u001b[0m_check_ch_locs\u001b[0m\u001b[0;34m,\u001b[0m \u001b[0mlogger\u001b[0m\u001b[0;34m,\u001b[0m \u001b[0mwarn\u001b[0m\u001b[0;34m\u001b[0m\u001b[0m\n\u001b[1;32m      8\u001b[0m \u001b[0;32mfrom\u001b[0m \u001b[0m_tsv_handler\u001b[0m \u001b[0;32mimport\u001b[0m \u001b[0m_from_tsv\u001b[0m\u001b[0;34m\u001b[0m\u001b[0m\n\u001b[0;32m----> 9\u001b[0;31m \u001b[0;32mfrom\u001b[0m \u001b[0m_montages\u001b[0m \u001b[0;32mimport\u001b[0m \u001b[0mmake_dig_montage\u001b[0m\u001b[0;34m,\u001b[0m \u001b[0mset_montage\u001b[0m\u001b[0;34m\u001b[0m\u001b[0m\n\u001b[0m\u001b[1;32m     10\u001b[0m \u001b[0;34m\u001b[0m\u001b[0m\n\u001b[1;32m     11\u001b[0m def _handle_electrodes_reading(electrodes_fname, coord_frame,\n",
      "\u001b[0;32m/home/localadmin/Documents/research/2_projects/CMP_EEG/connectomemapper3/ohbm-brainhack-2020/_montages.py\u001b[0m in \u001b[0;36m<module>\u001b[0;34m()\u001b[0m\n\u001b[1;32m     26\u001b[0m                           \u001b[0;31m#_verbose_frames, _fit_matched_points,\u001b[0m\u001b[0;34m\u001b[0m\u001b[0;34m\u001b[0m\u001b[0m\n\u001b[1;32m     27\u001b[0m                           \u001b[0;31m#_quat_to_affine)\u001b[0m\u001b[0;34m\u001b[0m\u001b[0;34m\u001b[0m\u001b[0m\n\u001b[0;32m---> 28\u001b[0;31m from mne.io._digitization import (_count_points_by_type,\n\u001b[0m\u001b[1;32m     29\u001b[0m                                 \u001b[0m_get_dig_eeg\u001b[0m\u001b[0;34m,\u001b[0m \u001b[0m_make_dig_points\u001b[0m\u001b[0;34m,\u001b[0m \u001b[0mwrite_dig\u001b[0m\u001b[0;34m,\u001b[0m\u001b[0;34m\u001b[0m\u001b[0m\n\u001b[1;32m     30\u001b[0m                                 \u001b[0m_read_dig_fif\u001b[0m\u001b[0;34m,\u001b[0m \u001b[0m_format_dig_points\u001b[0m\u001b[0;34m,\u001b[0m\u001b[0;34m\u001b[0m\u001b[0m\n",
      "\u001b[0;31mImportError\u001b[0m: No module named _digitization"
     ]
    }
   ],
   "source": [
    "from _electrode_reader import _handle_electrodes_reading"
   ]
  },
  {
   "cell_type": "code",
   "execution_count": null,
   "metadata": {},
   "outputs": [],
   "source": []
  },
  {
   "cell_type": "markdown",
   "metadata": {},
   "source": [
    "### Check files"
   ]
  },
  {
   "cell_type": "code",
   "execution_count": 3,
   "metadata": {
    "scrolled": true
   },
   "outputs": [
    {
     "name": "stdout",
     "output_type": "stream",
     "text": [
      "sub-002_task-FaceRecognition_events.tsv\n",
      "._sub-002_task-FaceRecognition_eeg.json\n",
      "sub-002_task-FaceRecognition_electrodes.tsv\n",
      "sub-002_task-FaceRecognition_eeg.json\n",
      "sub-002_task-FaceRecognition_eeg.set\n",
      "sub-002_task-FaceRecognition_coordsystem.json\n",
      "sub-002_task-FaceRecognition_events.json\n",
      "sub-002_task-FaceRecognition_eeg.fdt\n",
      "sub-002_task-FaceRecognition_channels.tsv\n"
     ]
    }
   ],
   "source": [
    "eeg_path = '/home/localadmin/Documents/research/2_projects/CMP_EEG/ds002718-cmpeeg/sub-002/eeg/'\n",
    "for elem in os.listdir(eeg_path):\n",
    "    print(elem)"
   ]
  },
  {
   "cell_type": "markdown",
   "metadata": {},
   "source": [
    "### Create MNE raw object"
   ]
  },
  {
   "cell_type": "code",
   "execution_count": null,
   "metadata": {},
   "outputs": [],
   "source": [
    "raw = mne.io.read_raw_eeglab(os.path.join(eeg_path,'sub-002_task-FaceRecognition_eeg.set'),uint16_codec='utf-8')"
   ]
  },
  {
   "cell_type": "markdown",
   "metadata": {},
   "source": [
    "### Load channels"
   ]
  },
  {
   "cell_type": "code",
   "execution_count": null,
   "metadata": {},
   "outputs": [],
   "source": [
    "def _handle_channels_reading(channels_fname, bids_fname, raw):\n",
    "    \"\"\"Read associated channels.tsv and populate raw.\n",
    "    Updates status (bad) and types of channels.\n",
    "    \"\"\"\n",
    "    logger.info('Reading channel info from {}.'.format(channels_fname))\n",
    "    channels_dict = _from_tsv(channels_fname)\n",
    "\n",
    "    # First, make sure that ordering of names in channels.tsv matches the\n",
    "    # ordering of names in the raw data. The \"name\" column is mandatory in BIDS\n",
    "    ch_names_raw = list(raw.ch_names)\n",
    "    ch_names_tsv = channels_dict['name']\n",
    "    if ch_names_raw != ch_names_tsv:\n",
    "\n",
    "        msg = ('Channels do not correspond between raw data and the '\n",
    "               'channels.tsv file. For MNE-BIDS, the channel names in the '\n",
    "               'tsv MUST be equal and in the same order as the channels in '\n",
    "               'the raw data.\\n\\n'\n",
    "               '{} channels in tsv file: \"{}\"\\n\\n --> {}\\n\\n'\n",
    "               '{} channels in raw file: \"{}\"\\n\\n --> {}\\n\\n'\n",
    "               .format(len(ch_names_tsv), channels_fname, ch_names_tsv,\n",
    "                       len(ch_names_raw), bids_fname, ch_names_raw)\n",
    "               )\n",
    "\n",
    "        # XXX: this could be due to MNE inserting a 'STI 014' channel as the\n",
    "        # last channel: In that case, we can work. --> Can be removed soon,\n",
    "        # because MNE will stop the synthesis of stim channels in the near\n",
    "        # future\n",
    "        if not (ch_names_raw[-1] == 'STI 014' and\n",
    "                ch_names_raw[:-1] == ch_names_tsv):\n",
    "            raise RuntimeError(msg)\n",
    "\n",
    "    # Now we can do some work.\n",
    "    # The \"type\" column is mandatory in BIDS. We can use it to set channel\n",
    "    # types in the raw data using a mapping between channel types\n",
    "    channel_type_dict = dict()\n",
    "\n",
    "    # Get the best mapping we currently have from BIDS to MNE nomenclature\n",
    "    bids_to_mne_ch_types = _get_ch_type_mapping(fro='bids', to='mne')\n",
    "    ch_types_json = channels_dict['type']\n",
    "    for ch_name, ch_type in zip(ch_names_tsv, ch_types_json):\n",
    "\n",
    "        # Try to map from BIDS nomenclature to MNE, leave channel type\n",
    "        # untouched if we are uncertain\n",
    "        updated_ch_type = bids_to_mne_ch_types.get(ch_type, None)\n",
    "        if updated_ch_type is not None:\n",
    "            channel_type_dict[ch_name] = updated_ch_type\n",
    "\n",
    "    # Set the channel types in the raw data according to channels.tsv\n",
    "    raw.set_channel_types(channel_type_dict)\n",
    "\n",
    "    # Check whether there is the optional \"status\" column from which to infer\n",
    "    # good and bad channels\n",
    "    if 'status' in channels_dict:\n",
    "        # find bads from channels.tsv\n",
    "        bad_bool = [True if chn.lower() == 'bad' else False\n",
    "                    for chn in channels_dict['status']]\n",
    "        bads = np.asarray(channels_dict['name'])[bad_bool]\n",
    "\n",
    "        # merge with bads already present in raw data file (if there are any)\n",
    "        unique_bads = set(raw.info['bads']).union(set(bads))\n",
    "        raw.info['bads'] = list(unique_bads)\n",
    "\n",
    "    return raw"
   ]
  },
  {
   "cell_type": "code",
   "execution_count": null,
   "metadata": {},
   "outputs": [],
   "source": [
    "def _get_ch_type_mapping(fro='mne', to='bids'):\n",
    "    \"\"\"Map between BIDS and MNE nomenclatures for channel types.\n",
    "    Parameters\n",
    "    ----------\n",
    "    fro : str\n",
    "        Mapping from nomenclature of `fro`. Can be 'mne', 'bids'\n",
    "    to : str\n",
    "        Mapping to nomenclature of `to`. Can be 'mne', 'bids'\n",
    "    Returns\n",
    "    -------\n",
    "    ch_type_mapping : collections.defaultdict\n",
    "        Dictionary mapping from one nomenclature of channel types to another.\n",
    "        If a key is not present, a default value will be returned that depends\n",
    "        on the `fro` and `to` parameters.\n",
    "    Notes\n",
    "    -----\n",
    "    For the mapping from BIDS to MNE, MEG channel types are ignored for now.\n",
    "    Furthermore, this is not a one-to-one mapping: Incomplete and partially\n",
    "    one-to-many/many-to-one.\n",
    "    \"\"\"\n",
    "    if fro == 'mne' and to == 'bids':\n",
    "        map_chs = dict(eeg='EEG', misc='MISC', stim='TRIG', emg='EMG',\n",
    "                       ecog='ECOG', seeg='SEEG', eog='EOG', ecg='ECG',\n",
    "                       # MEG channels\n",
    "                       meggradaxial='MEGGRADAXIAL', megmag='MEGMAG',\n",
    "                       megrefgradaxial='MEGREFGRADAXIAL',\n",
    "                       meggradplanar='MEGGRADPLANAR', megrefmag='MEGREFMAG',\n",
    "                       )\n",
    "        default_value = 'OTHER'\n",
    "\n",
    "    elif fro == 'bids' and to == 'mne':\n",
    "        map_chs = dict(EEG='eeg', MISC='misc', TRIG='stim', EMG='emg',\n",
    "                       ECOG='ecog', SEEG='seeg', EOG='eog', ECG='ecg',\n",
    "                       # No MEG channels for now\n",
    "                       # Many to one mapping\n",
    "                       VEOG='eog', HEOG='eog',\n",
    "                       )\n",
    "        default_value = 'misc'\n",
    "\n",
    "    else:\n",
    "        raise ValueError('Only two types of mappings are currently supported: '\n",
    "                         'from mne to bids, or from bids to mne. However, '\n",
    "                         'you specified from \"{}\" to \"{}\"'.format(fro, to))\n",
    "\n",
    "    # Make it a defaultdict to prevent key errors\n",
    "    ch_type_mapping = defaultdict(lambda: default_value)\n",
    "    ch_type_mapping.update(map_chs)\n",
    "\n",
    "    return ch_type_mapping"
   ]
  },
  {
   "cell_type": "code",
   "execution_count": null,
   "metadata": {},
   "outputs": [],
   "source": [
    "\"\"\"\n",
    "\n",
    "# First, make sure that ordering of names in channels.tsv matches the\n",
    "# ordering of names in the raw data. The \"name\" column is mandatory in BIDS\n",
    "ch_names_raw = [ch_name.encode('utf-8') for ch_name in raw.ch_names]\n",
    "ch_names_tsv = channels_dict['name']\n",
    "if ch_names_raw != ch_names_tsv:\n",
    "\n",
    "    msg = ('Channels do not correspond between raw data and the '\n",
    "           'channels.tsv file. For MNE-BIDS, the channel names in the '\n",
    "           'tsv MUST be equal and in the same order as the channels in '\n",
    "           'the raw data.\\n\\n'\n",
    "           )\n",
    "\n",
    "    # XXX: this could be due to MNE inserting a 'STI 014' channel as the\n",
    "    # last channel: In that case, we can work. --> Can be removed soon,\n",
    "    # because MNE will stop the synthesis of stim channels in the near\n",
    "    # future\n",
    "    if not (ch_names_raw[-1] == 'STI 014' and\n",
    "            ch_names_raw[:-1] == ch_names_tsv):\n",
    "        raise RuntimeError(msg)\n",
    "    else: \n",
    "        ch_names_raw = ch_names_raw[:-1]\n",
    "        \n",
    "        \n",
    "\"\"\""
   ]
  },
  {
   "cell_type": "code",
   "execution_count": null,
   "metadata": {},
   "outputs": [],
   "source": [
    "channels_fname = os.path.join(eeg_path,'sub-002_task-FaceRecognition_channels.tsv')\n",
    "raw = _handle_channels_reading(channels_fname, None, raw)\n"
   ]
  },
  {
   "cell_type": "code",
   "execution_count": null,
   "metadata": {},
   "outputs": [],
   "source": [
    "import json \n",
    "\n",
    "def _read_dig_bids(electrodes_fpath, coordsystem_fpath,\n",
    "                   raw, kind, verbose):\n",
    "    \"\"\"Read MNE-Python formatted DigMontage from BIDS files.\n",
    "    Handles coordinatesystem.json and electrodes.tsv reading\n",
    "    to DigMontage.\n",
    "    Parameters\n",
    "    ----------\n",
    "    electrodes_fpath : str\n",
    "        Filepath of the electrodes.tsv to read.\n",
    "    coordsystem_fpath : str\n",
    "        Filepath of the coordsystem.json to read.\n",
    "    raw : instance of Raw\n",
    "        The data as MNE-Python Raw object.\n",
    "    kind : str\n",
    "        Type of the data as in ALLOWED_KINDS.\n",
    "    verbose : bool\n",
    "        Set verbose output to true or false.\n",
    "    Returns\n",
    "    -------\n",
    "    raw : instance of Raw\n",
    "        The data as MNE-Python Raw object.\n",
    "    \"\"\"\n",
    "    \n",
    "    space = ''\n",
    "    \n",
    "    # read in coordinate information\n",
    "    with open(coordsystem_fpath, 'r') as fin:\n",
    "        coordsystem_json = json.load(fin)\n",
    "    \n",
    "    print(coordsystem_json)\n",
    "    coord_frame = coordsystem_json['EEGCoordinateSystem'].lower()\n",
    "    coord_unit = coordsystem_json['EEGCoordinateUnits']\n",
    "    coord_frame_desc = coordsystem_json.get('EEGCoordinateDescription',\n",
    "                                            None)\n",
    "    \n",
    "    # only accept captrak\n",
    "    if coord_frame not in ['captrak','ars']:\n",
    "        coord_frame = None\n",
    "    else:\n",
    "        coord_frame = 'head'\n",
    "    \n",
    "# check coordinate units\n",
    "    if coord_unit not in ['m', 'cm', 'mm']:\n",
    "        coord_frame = None\n",
    "    # only set montage if coordinate frame was properly parsed\n",
    "    if coord_frame is not None:\n",
    "        print('Read in electrode coordinates and attach to raw')\n",
    "        raw = _handle_electrodes_reading(electrodes_fpath, coord_frame,\n",
    "                                         coord_unit, raw, verbose)\n",
    "\n",
    "    return raw"
   ]
  },
  {
   "cell_type": "code",
   "execution_count": null,
   "metadata": {},
   "outputs": [],
   "source": [
    "# Try to find an associated electrodes.tsv and coordsystem.json\n",
    "# to get information about the status and type of present channels\n",
    "\n",
    "electrodes_fname = os.path.join(eeg_path,'sub-002_task-FaceRecognition_electrodes.tsv')\n",
    "coordsystem_fname = os.path.join(eeg_path,'sub-002_task-FaceRecognition_coordsystem.json')\n",
    "\n",
    "raw = _read_dig_bids(electrodes_fname, coordsystem_fname,\n",
    "                             raw, kind='eeg', verbose=1)"
   ]
  },
  {
   "cell_type": "code",
   "execution_count": null,
   "metadata": {},
   "outputs": [],
   "source": [
    "mne.channels.montage.DigMontage()"
   ]
  },
  {
   "cell_type": "code",
   "execution_count": null,
   "metadata": {},
   "outputs": [],
   "source": [
    "00"
   ]
  },
  {
   "cell_type": "code",
   "execution_count": null,
   "metadata": {},
   "outputs": [],
   "source": []
  },
  {
   "cell_type": "code",
   "execution_count": null,
   "metadata": {},
   "outputs": [],
   "source": []
  },
  {
   "cell_type": "code",
   "execution_count": null,
   "metadata": {},
   "outputs": [],
   "source": []
  },
  {
   "cell_type": "code",
   "execution_count": null,
   "metadata": {},
   "outputs": [],
   "source": []
  },
  {
   "cell_type": "code",
   "execution_count": null,
   "metadata": {},
   "outputs": [],
   "source": []
  },
  {
   "cell_type": "code",
   "execution_count": null,
   "metadata": {},
   "outputs": [],
   "source": []
  },
  {
   "cell_type": "code",
   "execution_count": null,
   "metadata": {},
   "outputs": [],
   "source": []
  }
 ],
 "metadata": {
  "kernelspec": {
   "display_name": "Python 2",
   "language": "python",
   "name": "python2"
  }
 },
 "nbformat": 4,
 "nbformat_minor": 2
}

{
 "cells": [
  {
   "cell_type": "code",
   "execution_count": 8,
   "metadata": {},
   "outputs": [],
   "source": [
    "import os\n",
    "import bids\n",
    "import mne_bids\n",
    "import mne"
   ]
  },
  {
   "cell_type": "code",
   "execution_count": 9,
   "metadata": {},
   "outputs": [
    {
     "name": "stdout",
     "output_type": "stream",
     "text": [
      "/Users/sebastientourbier/Downloads/ds002718-cmpeeg/sub-002/eeg/sub-002_task-FaceRecognition_eeg.set\n",
      "sub-002_task-FaceRecognition\n",
      "Extracting parameters from /Users/sebastientourbier/Downloads/ds002718-cmpeeg/sub-002/eeg/sub-002_task-FaceRecognition_eeg.set...\n"
     ]
    },
    {
     "ename": "AttributeError",
     "evalue": "'NoneType' object has no attribute 'items'",
     "output_type": "error",
     "traceback": [
      "\u001b[0;31m---------------------------------------------------------------------------\u001b[0m",
      "\u001b[0;31mAttributeError\u001b[0m                            Traceback (most recent call last)",
      "\u001b[0;32m<ipython-input-9-ff91c99fa198>\u001b[0m in \u001b[0;36m<module>\u001b[0;34m\u001b[0m\n\u001b[1;32m     10\u001b[0m \u001b[0mprint\u001b[0m\u001b[0;34m(\u001b[0m\u001b[0mbids_basename\u001b[0m\u001b[0;34m)\u001b[0m\u001b[0;34m\u001b[0m\u001b[0;34m\u001b[0m\u001b[0m\n\u001b[1;32m     11\u001b[0m \u001b[0;34m\u001b[0m\u001b[0m\n\u001b[0;32m---> 12\u001b[0;31m \u001b[0mraw\u001b[0m \u001b[0;34m=\u001b[0m \u001b[0mmne\u001b[0m\u001b[0;34m.\u001b[0m\u001b[0mread_epochs_eeglab\u001b[0m\u001b[0;34m(\u001b[0m\u001b[0mbids_fname\u001b[0m\u001b[0;34m)\u001b[0m\u001b[0;34m\u001b[0m\u001b[0;34m\u001b[0m\u001b[0m\n\u001b[0m\u001b[1;32m     13\u001b[0m \u001b[0;31m#raw = mne_bids.read_raw_bids(bids_basename, bids_root, 'eeg', verbose=True)\u001b[0m\u001b[0;34m\u001b[0m\u001b[0;34m\u001b[0m\u001b[0;34m\u001b[0m\u001b[0m\n",
      "\u001b[0;32m~/Softwares/miniconda3/envs/py3cmp-eeg/lib/python3.6/site-packages/mne/io/eeglab/eeglab.py\u001b[0m in \u001b[0;36mread_epochs_eeglab\u001b[0;34m(input_fname, events, event_id, eog, verbose, uint16_codec)\u001b[0m\n\u001b[1;32m    277\u001b[0m     epochs = EpochsEEGLAB(input_fname=input_fname, events=events, eog=eog,\n\u001b[1;32m    278\u001b[0m                           \u001b[0mevent_id\u001b[0m\u001b[0;34m=\u001b[0m\u001b[0mevent_id\u001b[0m\u001b[0;34m,\u001b[0m \u001b[0mverbose\u001b[0m\u001b[0;34m=\u001b[0m\u001b[0mverbose\u001b[0m\u001b[0;34m,\u001b[0m\u001b[0;34m\u001b[0m\u001b[0;34m\u001b[0m\u001b[0m\n\u001b[0;32m--> 279\u001b[0;31m                           uint16_codec=uint16_codec)\n\u001b[0m\u001b[1;32m    280\u001b[0m     \u001b[0;32mreturn\u001b[0m \u001b[0mepochs\u001b[0m\u001b[0;34m\u001b[0m\u001b[0;34m\u001b[0m\u001b[0m\n\u001b[1;32m    281\u001b[0m \u001b[0;34m\u001b[0m\u001b[0m\n",
      "\u001b[0;32m<decorator-gen-198>\u001b[0m in \u001b[0;36m__init__\u001b[0;34m(self, input_fname, events, event_id, tmin, baseline, reject, flat, reject_tmin, reject_tmax, montage, eog, verbose, uint16_codec)\u001b[0m\n",
      "\u001b[0;32m~/Softwares/miniconda3/envs/py3cmp-eeg/lib/python3.6/site-packages/mne/io/eeglab/eeglab.py\u001b[0m in \u001b[0;36m__init__\u001b[0;34m(self, input_fname, events, event_id, tmin, baseline, reject, flat, reject_tmin, reject_tmax, montage, eog, verbose, uint16_codec)\u001b[0m\n\u001b[1;32m    508\u001b[0m         \u001b[0minfo\u001b[0m\u001b[0;34m,\u001b[0m \u001b[0meeg_montage\u001b[0m\u001b[0;34m,\u001b[0m \u001b[0m_\u001b[0m \u001b[0;34m=\u001b[0m \u001b[0m_get_info\u001b[0m\u001b[0;34m(\u001b[0m\u001b[0meeg\u001b[0m\u001b[0;34m,\u001b[0m \u001b[0meog\u001b[0m\u001b[0;34m=\u001b[0m\u001b[0meog\u001b[0m\u001b[0;34m)\u001b[0m\u001b[0;34m\u001b[0m\u001b[0;34m\u001b[0m\u001b[0m\n\u001b[1;32m    509\u001b[0m \u001b[0;34m\u001b[0m\u001b[0m\n\u001b[0;32m--> 510\u001b[0;31m         \u001b[0;32mfor\u001b[0m \u001b[0mkey\u001b[0m\u001b[0;34m,\u001b[0m \u001b[0mval\u001b[0m \u001b[0;32min\u001b[0m \u001b[0mevent_id\u001b[0m\u001b[0;34m.\u001b[0m\u001b[0mitems\u001b[0m\u001b[0;34m(\u001b[0m\u001b[0;34m)\u001b[0m\u001b[0;34m:\u001b[0m\u001b[0;34m\u001b[0m\u001b[0;34m\u001b[0m\u001b[0m\n\u001b[0m\u001b[1;32m    511\u001b[0m             \u001b[0;32mif\u001b[0m \u001b[0mval\u001b[0m \u001b[0;32mnot\u001b[0m \u001b[0;32min\u001b[0m \u001b[0mevents\u001b[0m\u001b[0;34m[\u001b[0m\u001b[0;34m:\u001b[0m\u001b[0;34m,\u001b[0m \u001b[0;36m2\u001b[0m\u001b[0;34m]\u001b[0m\u001b[0;34m:\u001b[0m\u001b[0;34m\u001b[0m\u001b[0;34m\u001b[0m\u001b[0m\n\u001b[1;32m    512\u001b[0m                 raise ValueError('No matching events found for %s '\n",
      "\u001b[0;31mAttributeError\u001b[0m: 'NoneType' object has no attribute 'items'"
     ]
    }
   ],
   "source": [
    "bids_root = '/Users/sebastientourbier/Downloads/ds002718-cmpeeg'\n",
    "subject = '002'\n",
    "task = 'FaceRecognition'\n",
    "kind = 'eeg'\n",
    "\n",
    "bids_basename = 'sub-{}_task-{}'.format(subject,task)\n",
    "bids_fname = os.path.join(bids_root,'sub-{}'.format(subject),'eeg',bids_basename)\n",
    "bids_fname = bids_fname + \"_{}.set\".format(kind)\n",
    "print(bids_fname)\n",
    "print(bids_basename)\n",
    "\n",
    "raw = mne.read_epochs_eeglab(bids_fname)\n",
    "#raw = mne_bids.read_raw_bids(bids_basename, bids_root, 'eeg', verbose=True)\n"
   ]
  },
  {
   "cell_type": "code",
   "execution_count": null,
   "metadata": {},
   "outputs": [],
   "source": []
  }
 ],
 "metadata": {
  "kernelspec": {
   "display_name": "Python 3",
   "language": "python",
   "name": "python3"
  },
  "language_info": {
   "codemirror_mode": {
    "name": "ipython",
    "version": 3
   },
   "file_extension": ".py",
   "mimetype": "text/x-python",
   "name": "python",
   "nbconvert_exporter": "python",
   "pygments_lexer": "ipython3",
   "version": "3.6.10"
  }
 },
 "nbformat": 4,
 "nbformat_minor": 4
}

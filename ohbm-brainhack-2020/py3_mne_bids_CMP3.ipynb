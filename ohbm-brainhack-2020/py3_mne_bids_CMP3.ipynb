{
 "cells": [
  {
   "cell_type": "code",
   "execution_count": 9,
   "metadata": {},
   "outputs": [
    {
     "name": "stdout",
     "output_type": "stream",
     "text": [
      "Reading /home/localadmin/Documents/research/2_projects/CMP_EEG/ds002718-cmpeeg/sub-002/eeg/sub-002_task-FaceRecognition_eeg.fdt\n",
      "Cropping annotations 0 - 2991.0\n"
     ]
    },
    {
     "name": "stderr",
     "output_type": "stream",
     "text": [
      "<ipython-input-9-107c4fc73496>:10: RuntimeWarning: The data contains 'boundary' events, indicating data discontinuities. Be cautious of filtering and epoching around these events.\n",
      "  raw = mne.io.read_raw_eeglab(bids_fpath,verbose=1,uint16_codec='latin1')\n"
     ]
    }
   ],
   "source": [
    "import os\n",
    "\n",
    "import mne\n",
    "from mne_bids.read import _read_raw, _find_matching_sidecar, _handle_events_reading, \\\n",
    "                    _handle_channels_reading\n",
    "\n",
    "from _electrode_reader import _handle_electrodes_reading, _handle_coordsystem_reading\n",
    "eeg_path = '/home/localadmin/Documents/research/2_projects/CMP_EEG/ds002718-cmpeeg/sub-002/eeg/' \n",
    "bids_fpath = os.path.join(eeg_path,'sub-002_task-FaceRecognition_eeg.set')\n",
    "raw = mne.io.read_raw_eeglab(bids_fpath,verbose=1,uint16_codec='latin1')"
   ]
  },
  {
   "cell_type": "code",
   "execution_count": 4,
   "metadata": {},
   "outputs": [
    {
     "name": "stdout",
     "output_type": "stream",
     "text": [
      "Reading events from /home/localadmin/Documents/research/2_projects/CMP_EEG/ds002718-cmpeeg/sub-002/eeg/sub-002_task-FaceRecognition_events.tsv.\n"
     ]
    }
   ],
   "source": [
    "# Try to find an associated events.tsv to get information about the\n",
    "# events in the recorded data\n",
    "bids_root = '/home/localadmin/Documents/research/2_projects/CMP_EEG/ds002718-cmpeeg/'\n",
    "bids_fname = \"sub-002_task-FaceRecognition_eeg\"\n",
    "events_fname = _find_matching_sidecar(bids_fname, bids_root, 'events.tsv',\n",
    "                                      allow_fail=True)\n",
    "if events_fname is not None:\n",
    "    raw = _handle_events_reading(events_fname, raw)\n"
   ]
  },
  {
   "cell_type": "code",
   "execution_count": 5,
   "metadata": {},
   "outputs": [
    {
     "name": "stdout",
     "output_type": "stream",
     "text": [
      "Reading channel info from /home/localadmin/Documents/research/2_projects/CMP_EEG/ds002718-cmpeeg/sub-002/eeg/sub-002_task-FaceRecognition_channels.tsv.\n"
     ]
    }
   ],
   "source": [
    "# Try to find an associated channels.tsv to get information about the\n",
    "# status and type of present channels\n",
    "channels_fname = _find_matching_sidecar(bids_fname, bids_root,\n",
    "                                        'channels.tsv', allow_fail=True)\n",
    "if channels_fname is not None:\n",
    "    raw = _handle_channels_reading(channels_fname, bids_fname, raw)\n"
   ]
  },
  {
   "cell_type": "code",
   "execution_count": 6,
   "metadata": {},
   "outputs": [],
   "source": [
    "# Try to find an associated electrodes.tsv and coordsystem.json\n",
    "# to get information about the status and type of present channels\n",
    "\n",
    "electrodes_fname = _find_matching_sidecar(bids_fname, bids_root,\n",
    "                                          suffix='electrodes.tsv',\n",
    "                                          allow_fail=True)\n",
    "coordsystem_fname = _find_matching_sidecar(bids_fname, bids_root,\n",
    "                                           suffix='coordsystem.json',\n",
    "                                           allow_fail=True)"
   ]
  },
  {
   "cell_type": "code",
   "execution_count": 7,
   "metadata": {},
   "outputs": [
    {
     "name": "stdout",
     "output_type": "stream",
     "text": [
      "Reading in coordinate system frame ars: None.\n",
      "Reading electrode coords from /home/localadmin/Documents/research/2_projects/CMP_EEG/ds002718-cmpeeg/sub-002/eeg/sub-002_task-FaceRecognition_electrodes.tsv.\n",
      "The read in electrodes file is: \n",
      " [('name', ['EEG001', 'EEG002', 'EEG003', 'EEG004', 'EEG005', 'EEG006', 'EEG007', 'EEG008', 'EEG009', 'EEG010', 'EEG011', 'EEG012', 'EEG013', 'EEG014', 'EEG015', 'EEG016', 'EEG017', 'EEG018', 'EEG019', 'EEG020', 'EEG021', 'EEG022', 'EEG023', 'EEG024', 'EEG025', 'EEG026', 'EEG027', 'EEG028', 'EEG029', 'EEG030', 'EEG031', 'EEG032', 'EEG033', 'EEG034', 'EEG035', 'EEG036', 'EEG037', 'EEG038', 'EEG039', 'EEG040', 'EEG041', 'EEG042', 'EEG043', 'EEG044', 'EEG045', 'EEG046', 'EEG047', 'EEG048', 'EEG049', 'EEG050', 'EEG051', 'EEG052', 'EEG053', 'EEG054', 'EEG055', 'EEG056', 'EEG057', 'EEG058', 'EEG059', 'EEG060', 'EEG061', 'EEG062', 'EEG063', 'EEG064', 'EEG065', 'EEG066', 'EEG067', 'EEG068', 'EEG069', 'EEG070', 'EEG071', 'EEG072', 'EEG073', 'EEG074']), ('x', ['-4.17', '0.46', '4.20', '-4.67', '-2.51', '0.67', '3.86', '5.64', '-5.75', '-5.04', '-3.60', '-1.60', '0.57', '3.18', '5.00', '6.19', '6.80', '-6.75', '-6.68', '-6.08', '-4.63', '-2.49', '0.40', '3.40', '5.64', '7.16', '7.79', '7.67', '-6.73', '-7.23', '-6.65', '-5.23', '-2.81', '0.05', '3.18', '5.70', '7.61', '8.25', '7.67', '-6.58', '-7.03', '-6.51', '-5.06', '-2.61', '0.22', '3.07', '5.54', '7.12', '7.57', '7.51', '-5.77', '-6.09', '-5.74', '-4.50', '-2.20', '0.03', '2.57', '4.44', '5.89', '6.33', 'n/a', 'n/a', 'n/a', 'n/a', '6.28', '-4.75', '-3.08', '-0.14', '3.13', '4.51', '-2.96', '-0.23', '2.25', '0.29']), ('y', ['-6.62', '10.83', '-7.30', '8.61', '9.79', '10.16', '9.21', '7.94', '6.46', '7.19', '7.59', '7.70', '7.92', '7.28', '7.10', '6.48', '5.54', '3.26', '3.87', '4.40', '4.61', '4.74', '4.85', '4.47', '3.68', '3.45', '2.78', '2.45', '1.30', '0.92', '1.35', '1.28', '1.16', '1.09', '0.65', '0.66', '0.42', '0.04', '0.58', '-2.74', '-1.93', '-1.94', '-1.97', '-2.05', '-2.87', '-2.51', '-2.80', '-2.88', '-3.09', '-3.69', '-4.93', '-4.29', '-4.48', '-4.84', '-5.08', '-5.35', '-5.03', '-5.42', '-5.40', '-5.46', 'n/a', 'n/a', 'n/a', 'n/a', '-5.58', '-6.36', '-6.99', '-7.46', '-7.53', '-7.52', '-7.85', '-8.72', '-8.69', '-8.30']), ('z', ['1.68', '3.59', '1.86', '3.37', '6.06', '7.18', '6.14', '3.24', '3.92', '6.42', '8.18', '9.66', '10.03', '9.54', '7.76', '5.82', '3.41', '1.14', '4.33', '7.08', '9.42', '10.98', '11.55', '10.89', '9.40', '6.96', '4.35', '0.78', '1.17', '4.38', '7.71', '10.10', '11.80', '12.76', '11.84', '10.38', '7.71', '4.44', '1.03', '1.10', '4.35', '7.64', '10.07', '11.71', '12.30', '11.82', '10.19', '7.68', '4.58', '1.33', '1.48', '4.72', '7.21', '9.25', '10.63', '11.00', '10.76', '9.48', '7.31', '5.00', 'n/a', 'n/a', 'n/a', 'n/a', '1.72', '4.96', '7.89', '8.63', '8.10', '5.54', '5.47', '5.59', '5.71', '1.82'])]\n"
     ]
    },
    {
     "name": "stderr",
     "output_type": "stream",
     "text": [
      "/home/localadmin/Documents/research/2_projects/CMP_EEG/connectomemapper3/ohbm-brainhack-2020/_electrode_reader.py:87: RuntimeWarning: There are channels without locations (n/a) that are not marked as bad: ['EEG061', 'EEG062', 'EEG063', 'EEG064']\n",
      "  \"(n/a) that are not marked as bad: {}\".format(nan_chs))\n"
     ]
    }
   ],
   "source": [
    "\"\"\"raw = _read_dig_bids(electrodes_fname, coordsystem_fname,\n",
    "                         raw, kind='eeg', verbose=1)\n",
    "\"\"\"\n",
    "coord_frame, coord_unit = _handle_coordsystem_reading(coordsystem_fname,\n",
    "                                                          'eeg', verbose=1)\n",
    "\n",
    "raw = _handle_electrodes_reading(electrodes_fname, coord_frame,\n",
    "                                         coord_unit, raw, verbose=1)"
   ]
  },
  {
   "cell_type": "code",
   "execution_count": null,
   "metadata": {},
   "outputs": [],
   "source": []
  },
  {
   "cell_type": "code",
   "execution_count": null,
   "metadata": {},
   "outputs": [],
   "source": []
  },
  {
   "cell_type": "code",
   "execution_count": null,
   "metadata": {},
   "outputs": [],
   "source": []
  },
  {
   "cell_type": "code",
   "execution_count": null,
   "metadata": {},
   "outputs": [],
   "source": []
  },
  {
   "cell_type": "code",
   "execution_count": null,
   "metadata": {},
   "outputs": [],
   "source": []
  },
  {
   "cell_type": "code",
   "execution_count": null,
   "metadata": {},
   "outputs": [],
   "source": []
  },
  {
   "cell_type": "code",
   "execution_count": null,
   "metadata": {},
   "outputs": [],
   "source": []
  }
 ],
 "metadata": {
  "kernelspec": {
   "display_name": "Python 3",
   "language": "python",
   "name": "python3"
  },
  "language_info": {
   "codemirror_mode": {
    "name": "ipython",
    "version": 3
   },
   "file_extension": ".py",
   "mimetype": "text/x-python",
   "name": "python",
   "nbconvert_exporter": "python",
   "pygments_lexer": "ipython3",
   "version": "3.6.10"
  }
 },
 "nbformat": 4,
 "nbformat_minor": 2
}
